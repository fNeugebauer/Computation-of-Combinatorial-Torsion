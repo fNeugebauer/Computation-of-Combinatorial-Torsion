{
 "cells": [
  {
   "cell_type": "code",
   "execution_count": 1,
   "id": "2a77528b",
   "metadata": {},
   "outputs": [],
   "source": [
    "from sage.topology.simplicial_set import AbstractSimplex, SimplicialSet\n",
    "from sage.topology.simplicial_set_morphism import SimplicialSetMorphism\n",
    "from itertools import product\n",
    "from math import prod\n",
    "import numpy"
   ]
  },
  {
   "cell_type": "markdown",
   "id": "9a558a8d",
   "metadata": {},
   "source": [
    "For the later use we implement a function that returns a group presentation of the fundamental group of a connected simplicial set $X$ together with a list $gens =[e_0,\\dots, e_m]$. The $e_i$ are non-degenerate $1$-simplices in $X$. Moreover, $X_1^\\text{nd}\\setminus \\{e_1,\\dots, e_m\\}$ is the collection of edges of a spanning tree in the $1$-skeleton of $X$. The computed group presentation will have generators $e_1,\\dots, e_m$. \n",
    "\n",
    "Such an algorithm already exists in SageMath and we just modify it slightly."
   ]
  },
  {
   "cell_type": "code",
   "execution_count": 2,
   "id": "d6f0c332",
   "metadata": {},
   "outputs": [],
   "source": [
    "# this is a modification of code under the following Copyright\n",
    "#*****************************************************************************\n",
    "#  Copyright (C) 2015 John H. Palmieri <palmieri at math.washington.edu>\n",
    "#\n",
    "#  Distributed under the terms of the GNU General Public License (GPL)\n",
    "#                  http://www.gnu.org/licenses/\n",
    "#******************************************************************************\n",
    "\n",
    "def fundamental_group_w_gens(X):\n",
    "    if len(X.f_vector())<2:\n",
    "        return FreeGroup(0)/[], []\n",
    "    if not X.is_connected():\n",
    "        raise ValueError(\"the given simplicial set is not connected\")\n",
    "    graph = X.graph() #graph with edges the non-degenerate 1-cells\n",
    "    edges = [e[2] for e in graph.edges()]\n",
    "    spanning_tree = [e[2] for e in graph.min_spanning_tree()]\n",
    "    gens = [e for e in edges if e not in spanning_tree]\n",
    "    if gens == []:\n",
    "        return FreeGroup(0)/[], []\n",
    "    FG = FreeGroup(len(gens), 'e')\n",
    "    rels = []\n",
    "    #adding the reltations given by the 2-cells\n",
    "    for f in X.n_cells(2):\n",
    "        z = dict()\n",
    "        for i in range(3):\n",
    "            e = X.face(f,i)\n",
    "            if e.is_degenerate():\n",
    "                z[i]=FG.one()\n",
    "            elif e in spanning_tree:\n",
    "                z[i]=FG.one()\n",
    "            else: \n",
    "                z[i]=FG.gen(gens.index(e))\n",
    "        rels.append(z[0]*z[1].inverse()*z[2])\n",
    "    return FG.quotient(rels), gens"
   ]
  },
  {
   "cell_type": "markdown",
   "id": "03a716fc",
   "metadata": {},
   "source": [
    "# Normal Covering Spaces"
   ]
  },
  {
   "cell_type": "markdown",
   "id": "f5a41e6e",
   "metadata": {},
   "source": [
    "## Chain Complex of normal covering "
   ]
  },
  {
   "cell_type": "markdown",
   "id": "dfee68d3",
   "metadata": {},
   "source": [
    "The following algorithm should implement part 2 of algorithm (3) from the enclosed bachelor thesis. The function is not meant to be directly called but will be used by later functions. "
   ]
  },
  {
   "cell_type": "code",
   "execution_count": 3,
   "id": "7e188d70",
   "metadata": {},
   "outputs": [],
   "source": [
    "def complexOfCover(X, G, gens, Simplification = False):\n",
    "    \n",
    "    if not X.is_finite():\n",
    "        raise ValueError(\"the given simplicial set might not be finite\")\n",
    "    f_vec = X.f_vector()\n",
    "    if len(f_vec)<2:\n",
    "        return X.chain_complex()\n",
    "\n",
    "    if Simplification:\n",
    "        h = G.simplification_isomorphism()\n",
    "        G_simp = h.codomain()\n",
    "        R = G_simp.algebra(ZZ)\n",
    "    else: \n",
    "        R = G.algebra(ZZ)\n",
    "        \n",
    "    deckTrnsf = {i: [] for i in range(1, len(f_vec))} \n",
    "    bdryComplx = {}\n",
    "    for i in range(1, len(f_vec)):\n",
    "        bdryComplx[i] = matrix(R, f_vec[i-1], f_vec[i])\n",
    "                                        \n",
    "    for j in range(f_vec[1]):\n",
    "        e = X.n_cells(1)[j]\n",
    "        ind_d0 = X.n_cells(0).index(X.face(e,0))\n",
    "        ind_d1 = X.n_cells(0).index(X.face(e,1))\n",
    "        bdryComplx[1][ind_d1,j] -= 1 \n",
    "        if e in gens:\n",
    "            if Simplification:\n",
    "                e_titz = h(G.gen(gens.index(e))).Tietze()\n",
    "                e_simp = G_simp.one()\n",
    "                for m in range(len(e_titz)):\n",
    "                    e_simp = e_simp*G_simp.gen(abs(e_titz[m])-1)^(sgn(e_titz[m]))\n",
    "                bdryComplx[1][ind_d0,j] += e_simp*R.one()\n",
    "                deckTrnsf[1].append(e_simp*R.one())\n",
    "            else:\n",
    "                bdryComplx[1][ind_d0,j] += R.algebra_generators()[gens.index(e)]\n",
    "                deckTrnsf[1].append(R.algebra_generators()[gens.index(e)])\n",
    "        else:\n",
    "            bdryComplx[1][ind_d0,j] += 1\n",
    "            deckTrnsf[1].append(1)\n",
    "    \n",
    "    for n in range(2, len(f_vec)):\n",
    "        for j in range(f_vec[n]):\n",
    "            f = X.n_cells(n)[j]\n",
    "            for m in range(1, n+1):\n",
    "                if X.face(f,m).is_nondegenerate():\n",
    "                    bdryComplx[n][X.n_cells(n-1).index(X.face(f,m)),j] += (-1)^m\n",
    "            dn = X.face(f,n)\n",
    "            if dn.is_degenerate() and 0 in dn.degeneracies():\n",
    "                if X.face(f,0).is_nondegenerate():\n",
    "                    bdryComplx[n][X.n_cells(n-1).index(X.face(f,0)),j] += 1\n",
    "                deckTrnsf[n].append(R.one())\n",
    "            else: \n",
    "                dim_und = dn.nondegenerate().dimension()\n",
    "                ind_und = X.n_cells(dim_und).index(dn.nondegenerate())\n",
    "                if X.face(f,0).is_nondegenerate():\n",
    "                    i = X.n_cells(n-1).index(X.face(f,0))\n",
    "                    bdryComplx[n][i,j] += deckTrnsf[dim_und][ind_und]\n",
    "                deckTrnsf[n].append(deckTrnsf[dim_und][ind_und])\n",
    "                \n",
    "    return bdryComplx"
   ]
  },
  {
   "cell_type": "markdown",
   "id": "176e3f38",
   "metadata": {},
   "source": [
    "### Variant 1: User has to compute spanning tree"
   ]
  },
  {
   "cell_type": "markdown",
   "id": "cd542017",
   "metadata": {},
   "source": [
    "The next function implements algorithm (3) in the unmodified version from the bachelor thesis. \n",
    "\n",
    "This version of the algorithm requires the user to give a finite simplicial set $X$ together with edges $e_1,\\dots, e_m \\in X_1^{\\text{nd}}$ contained in a list $gens=[e_1,\\dots, e_m]$ such that $X_1^{\\text{nd}}\\setminus \\{e_1,\\dots, e_m\\}$ form the edges in a spanning tree of the $1$-skeleton of $X$. Whether this is satisfied, is checked by the following implementation. Further, the user needs to provide a list $N$ of elements in the free group $F(\\{e_1,\\dots, e_m\\})$. \n",
    "\n",
    "The algorithm computes the normalized chain complex $C$ of a covering space $Z$ of $X$, such that $Z$ has fundamental group equal to the normal subgroup of $\\pi_1(X)$ generated by the elements in $N$. We will denote the quotient of $\\pi_1(X)$ by this subgroup by $G$. $C$ is a chain complex of free $\\mathbb{Z}[G]$-modules, where lifts of the nondegenerate $k$-simplices of $X$ form a $\\mathbb{Z}[G]$-basis of $C_k$.\n",
    "\n",
    "Firstly, the function computes a presentation of $G$ such that the $e_1,\\dots, e_m$ are the generators. \n",
    "\n",
    "Then, the function returns $C$ by giving the matrices of the boundary operators with respect to a $\\mathbb{Z}[G]$-basis of every $C_k$, where the basis of $C_k$ consists of lifts of nondegenerate $k$-simplices of $X$.\n",
    "\n",
    "If the function is called with the boolean simplification set to True, then GAP is asked to simplify the computed presentation of $G$."
   ]
  },
  {
   "cell_type": "code",
   "execution_count": 4,
   "id": "ea19e864",
   "metadata": {},
   "outputs": [],
   "source": [
    "def complexOfNormalCoveringTree(X, gens, N, Simplification=False):\n",
    "    \n",
    "    #X the simplicial set,\n",
    "    #gens the list of edges not in spanning tree,\n",
    "    #N relations in the free group F(gens)\n",
    "    \n",
    "    if X.dimension()<1:\n",
    "        return X.chain_complex() \n",
    "    if not X.is_connected():\n",
    "        raise ValueError(\"given simplicial set not connected\")\n",
    "        \n",
    "    #next we check wether sk_1(X)-gens is a spanning tree in sk_1(X)\n",
    "    treeSimplices = {}\n",
    "    for e in [item for item in X.n_cells(1) if item not in gens]:\n",
    "        treeSimplices[e]=(X.face(e,0), X.face(e,1))\n",
    "    for v in X.n_cells(0):\n",
    "        treeSimplices[v]=None\n",
    "    tree = SimplicialSet(treeSimplices)\n",
    "    if not tree.is_connected():\n",
    "        raise ValueError(\"sk_1(X)-gens not spanning subgraph of sk_1(X)\")\n",
    "    if not tree.is_acyclic():\n",
    "        raise ValueError(\"sk_1(X)-gens is not acyclic\")\n",
    "    if N == []: \n",
    "        FG = FreeGroup(len(gens), 'e')\n",
    "    else: \n",
    "        if not len(N[0].parent().generators())==len(gens):\n",
    "            raise ValueError(\"N not subset of free group on gens\")\n",
    "        FG = N[0].parent()\n",
    "        for i in range(len(N)):\n",
    "            if not N[i].parent()==FG:\n",
    "                raise ValueError(\"N not subset of one group\")\n",
    "                \n",
    "    #now we compute a presentation of pi_1(X)/N\n",
    "    rels = []\n",
    "    #adding the relations given by the 2-cells of X\n",
    "    for f in X.n_cells(2):\n",
    "        z = dict()\n",
    "        for i in range(3):\n",
    "            e = X.face(f,i)\n",
    "            if e.is_degenerate():\n",
    "                z[i]=FG.one()\n",
    "            elif e in gens:\n",
    "                z[i]=FG.gen(gens.index(e))\n",
    "            else: \n",
    "                z[i]=FG.one()\n",
    "        rels.append(z[0]*z[1].inverse()*z[2])\n",
    "    G = FG.quotient(rels+N)\n",
    "    \n",
    "    return complexOfCover(X, G, gens, Simplification)"
   ]
  },
  {
   "cell_type": "markdown",
   "id": "bb16a87c",
   "metadata": {},
   "source": [
    "#### Small Examples:"
   ]
  },
  {
   "cell_type": "markdown",
   "id": "71cefbfe",
   "metadata": {},
   "source": [
    "We may compute the chain complex of a double cover of the circle, where we define the circle $S^1$ to be the simplicial set which has only two nondegenerate simplices, one of them being a one-simplex."
   ]
  },
  {
   "cell_type": "code",
   "execution_count": 5,
   "id": "56b19458",
   "metadata": {},
   "outputs": [
    {
     "data": {
      "text/plain": [
       "({1: [-1 + x]},\n",
       " Algebra of Finitely presented group < x | x^2 > over Integer Ring)"
      ]
     },
     "execution_count": 5,
     "metadata": {},
     "output_type": "execute_result"
    }
   ],
   "source": [
    "s1=simplicial_sets.Sphere(1)\n",
    "FG=FreeGroup(1); \n",
    "gens = s1.n_cells(1)\n",
    "N = [FG.gen(0)^2]\n",
    "C_S1_double = complexOfNormalCoveringTree(s1, gens, N)\n",
    "C_S1_double, C_S1_double[1].base_ring()"
   ]
  },
  {
   "cell_type": "markdown",
   "id": "45818225",
   "metadata": {},
   "source": [
    "Now we compute the chain complex  of double cover of the torus.\n",
    "\n",
    "We use a triangulation of the torus as $\\Delta$-complex with two $2$-simplices."
   ]
  },
  {
   "cell_type": "code",
   "execution_count": 6,
   "id": "2d13b928",
   "metadata": {},
   "outputs": [
    {
     "data": {
      "text/plain": [
       "Algebra of Finitely presented group < a0 | a0^2 > over Integer Ring"
      ]
     },
     "execution_count": 6,
     "metadata": {},
     "output_type": "execute_result"
    }
   ],
   "source": [
    "t= simplicial_sets.Torus()\n",
    "FG=FreeGroup(len(t.n_cells(1)), 'a')\n",
    "gens = t.n_cells(1)\n",
    "N = [FG.gen(0)^2, FG.gen(1)]\n",
    "C_double_torus = complexOfNormalCoveringTree(t, gens, N, True)\n",
    "C_double_torus[1].base_ring()"
   ]
  },
  {
   "cell_type": "markdown",
   "id": "b55432d4",
   "metadata": {},
   "source": [
    "We print the computed result \"C_double_torus\" in latex:\n",
    "$$\\left\\{1 :\\; \\left(\\begin{array}{rrr}\n",
    "-1 + a_{0} & 0 & -1 + a_{0}\n",
    "\\end{array}\\right),\\quad  2 :\\; \\left(\\begin{array}{rr}\n",
    "1 & 1 \\\\\n",
    "a_{0} & 1 \\\\\n",
    "-1 & -1\n",
    "\\end{array}\\right)\\right\\}$$"
   ]
  },
  {
   "cell_type": "markdown",
   "id": "9a72a1f4",
   "metadata": {},
   "source": [
    "### Variant 2: User gives the normal subgroup by loops"
   ]
  },
  {
   "cell_type": "markdown",
   "id": "740e1479",
   "metadata": {},
   "source": [
    "Next we implement algorithm (3) from the enclosed bachelor thesis in the version modified by algorithm (4). \n",
    "\n",
    "So, the function has input $X$, a finite connected simplicial set, and $N$, where $N$ is a list of lists, $N=[n_0, \\dots, n_s]$.\n",
    "\n",
    "Each $n_i$ is a list of tuples $(\\sigma_{i_1}, k_{i_1}),\\dots, (\\sigma_{i_{r_i}}, k_{r_i})$ for each $\\sigma_{i_j}$ a nondegenerate $1$-simplex of $X$ and $k_{i_j}\\in \\mathbb{Z}$ such that $\\sigma_{i_1}^{k_{i_1}}*\\dots*\\sigma_{i_{r_i}}^{k_{r_i}}$ is forming a loop in the 1-skeleton of $X$. \n",
    "\n",
    "The condition that $n_i$ defines a loop says that  \n",
    "\n",
    "$$\\text{for all $j=1,\\dots, r_i$ } \\quad  \\begin{cases}\n",
    "    d_0(\\sigma_{i_j})=d_1(\\sigma_{i_{j+1\\text{ mod } r_i}}) & \\text{if } k_{i_{j}}, k_{i_{j+1  \\text{ mod } r_i}}>0\\\\\n",
    "    d_0(\\sigma_{i_j})=d_0(\\sigma_{i_{j+1\\text{ mod } r_i}}) & \\text{if } k_{i_{j}}>0 \\text{ and } k_{i_{j+1 \\text{ mod } r_i}}<0\\\\\n",
    "    d_1(\\sigma_{i_j})=d_1(\\sigma_{i_{j+1\\text{ mod } r_i}})& \\text{if } k_{i_{j}}<0 \\text{ and } k_{i_{j+1 \\text{ mod } r_i}}>0\\\\\n",
    "    d_1(\\sigma_{i_j})=d_0(\\sigma_{i_{j+1\\text{ mod } r_i}})& \\text{if } k_{i_{j}}, k_{i_{j+1 \\text{ mod } r_i}}<0.\n",
    "\\end{cases}\n",
    "$$ \n",
    "and $d_0(\\sigma_{i_j})=d_1(\\sigma_{i_j})$ if $|k_{i_j}|>1$.\n",
    "\n",
    "The algorithm computes the normalized chain complex $C$ of a covering space $Z$ of $X$, such that $Z$ has fundamental group equal to the normal subgroup of $\\pi_1(X)$ generated by the elements in $N$. We will denote the quotient of $\\pi_1(X)$ by this subgroup by $G$. $C$ is a chain complex of free $\\mathbb{Z}[G]$-modules, where lifts of the nondegenerate $k$-simplices of $X$ form a $\\mathbb{Z}[G]$ basis of $C_k$.\n",
    "\n",
    "The function computes a presentation of $G$ and returns $C$ by giving the matrices of the boundary operators with respect to a $\\mathbb{Z}[G]$-basis of every $C_k$, where the basis of $C_k$ consists of lifts of nondegenerate $k$-simplices of $X$.\n",
    "\n",
    "If the function is called with the boolean Simplification set to True, then GAP is asked to simplify the computed presentation of $G$.\n",
    "\n",
    "If the function is called with the boolean check set to True, then it is check whether $N$ is of the above form."
   ]
  },
  {
   "cell_type": "code",
   "execution_count": 7,
   "id": "1b878f2f",
   "metadata": {},
   "outputs": [],
   "source": [
    "def complexOfNormalCoveringLoops(X, N, Simplification=False, check=True):\n",
    "    \n",
    "    #X a finite connected simplicial set, \n",
    "    #N loops in the 1-skeleton of X given in the above form\n",
    "    \n",
    "    if X.dimension()<1:\n",
    "        return X.chain_complex() \n",
    "    if not X.is_connected():\n",
    "        raise ValueError(\"given simplicial set not connected\")\n",
    "        \n",
    "    #We  check whether N is of the required form: \n",
    "    if check:\n",
    "        for n in N:\n",
    "            for j in range(len(n)):\n",
    "                s,k = n[j]\n",
    "                s1, k1 = n[(j+1)%len(n)]\n",
    "                if abs(k)>1 and X.face(s, 0)!=X.face(s, 1):\n",
    "                    raise ValueError(\"N doens't consist of loops\")\n",
    "                if k>0 and k1>0 and X.face(s, 0) != X.face(s1, 1):\n",
    "                    raise ValueError(\"N doens't consist of loops\")\n",
    "                if k>0 and k1<0 and X.face(s, 0) != X.face(s1, 0):\n",
    "                    raise ValueError(\"N doens't consist of loops\")\n",
    "                if k<0 and k1>0 and X.face(s, 1)!= X.face(s1, 1):\n",
    "                    raise ValueError(\"N doens't consist of loops\")\n",
    "                if k<0 and k1<0 and X.face(s, 1)!= X.face(s1, 0):\n",
    "                    raise ValueError(\"N doens't consist of loops\")\n",
    "                      \n",
    "    # let us compute a presentation of the fundamental group G of X\n",
    "    graph = X.graph() #graph with edges the non-degenerate 1-cells\n",
    "    edges = [e[2] for e in graph.edges()]\n",
    "    spanning_tree = [e[2] for e in graph.min_spanning_tree()]\n",
    "    gens = [e for e in edges if e not in spanning_tree]\n",
    "    FG = FreeGroup(len(gens), 'e')\n",
    "    rels = []\n",
    "    #adding the relations given by the 2-cells\n",
    "    for f in X.n_cells(2):\n",
    "        z = dict()\n",
    "        for i in range(3):\n",
    "            e = X.face(f,i)\n",
    "            if e.is_degenerate():\n",
    "                z[i]=FG.one()\n",
    "            elif e in spanning_tree:\n",
    "                z[i]=FG.one()\n",
    "            else: \n",
    "                z[i]=FG.gen(gens.index(e))\n",
    "        rels.append(z[0]*z[1].inverse()*z[2])\n",
    "    \n",
    "    # presentation of normal subgroup of pi_1(X) generated by N\n",
    "    N_pr = []\n",
    "    for n in N:\n",
    "        n_pr=FG.one()\n",
    "        for e,k in n:\n",
    "            if e in gens:\n",
    "                n_pr=n_pr*FG.gen(gens.index(e))^k\n",
    "        N_pr.append(n_pr)\n",
    "    \n",
    "    G = FG.quotient(rels+N_pr)\n",
    "    \n",
    "    return complexOfCover(X, G, gens, Simplification)"
   ]
  },
  {
   "cell_type": "markdown",
   "id": "673a5678",
   "metadata": {},
   "source": [
    "#### Small Examples"
   ]
  },
  {
   "cell_type": "markdown",
   "id": "577dcce9",
   "metadata": {},
   "source": [
    "We use a triangulation of the torus as $\\Delta$-complex with two $2$-simplices."
   ]
  },
  {
   "cell_type": "code",
   "execution_count": 8,
   "id": "b6c4047c",
   "metadata": {},
   "outputs": [],
   "source": [
    "torus = simplicial_sets.Torus()"
   ]
  },
  {
   "cell_type": "code",
   "execution_count": 9,
   "id": "ad5047b1",
   "metadata": {},
   "outputs": [],
   "source": [
    "N=[[(torus.n_cells(1)[2], 2)]]\n",
    "N.append([(torus.n_cells(1)[2], -1)]) \n",
    "N.append([(torus.n_cells(1)[0], -3), (torus.n_cells(1)[1], 1)])"
   ]
  },
  {
   "cell_type": "code",
   "execution_count": 10,
   "id": "b269e358",
   "metadata": {},
   "outputs": [
    {
     "data": {
      "text/plain": [
       "Algebra of Finitely presented group < e0 | e0^4 > over Integer Ring"
      ]
     },
     "execution_count": 10,
     "metadata": {},
     "output_type": "execute_result"
    }
   ],
   "source": [
    "C_torus_N = complexOfNormalCoveringLoops(torus, N, Simplification=True)\n",
    "C_torus_N[1].base_ring()"
   ]
  },
  {
   "cell_type": "markdown",
   "id": "f43f44ed",
   "metadata": {},
   "source": [
    "We have computed the chain complex of a 4-sheeted covering with deck-transformation group $\\mathbb{Z}/4\\mathbb{Z}$. \n",
    "\n",
    "We print \"C_torus_N\" in latex:"
   ]
  },
  {
   "cell_type": "markdown",
   "id": "01cbcbee",
   "metadata": {},
   "source": [
    "$$\\left\\{1 : \\;\\left(\\begin{array}{rrr}\n",
    "-1 + e_{0} & -1 + e_{0}^{-1} & 0\n",
    "\\end{array}\\right), \\quad 2 :\\; \\left(\\begin{array}{rr}\n",
    "1 & e_{0}^{-1} \\\\\n",
    "e_{0} & 1 \\\\\n",
    "-1 & -1\n",
    "\\end{array}\\right)\\right\\}$$"
   ]
  },
  {
   "cell_type": "markdown",
   "id": "301edc98",
   "metadata": {},
   "source": [
    "### Variant 3: Chain complex of the universal cover"
   ]
  },
  {
   "cell_type": "markdown",
   "id": "26ed18ca",
   "metadata": {},
   "source": [
    "Computing the normalized chain complex of the universal cover of $X$ as free $\\mathbb{Z}[\\pi_1(X)]$-module chain complex with basis given by lifts of nondegenerate simplices of $X$ corresponds to computing a normal covering space using the function \"complexOfNormalCoveringLoops\" and setting $N=0$ as input. "
   ]
  },
  {
   "cell_type": "code",
   "execution_count": 11,
   "id": "2ea057c2",
   "metadata": {},
   "outputs": [],
   "source": [
    "def complexOfUniversalCover(X, simplify_group=False):\n",
    "    return complexOfNormalCoveringLoops(X, [], simplify_group, check=False)"
   ]
  },
  {
   "cell_type": "markdown",
   "id": "959d3388",
   "metadata": {},
   "source": [
    "#### Examples"
   ]
  },
  {
   "cell_type": "markdown",
   "id": "ec6f1320",
   "metadata": {},
   "source": [
    "We use a triangulation of the torus as $\\Delta$-complex with two $2$-simplices."
   ]
  },
  {
   "cell_type": "code",
   "execution_count": 12,
   "id": "60e29506",
   "metadata": {},
   "outputs": [
    {
     "data": {
      "text/plain": [
       "Algebra of Finitely presented group < e0, e1 | e0*e1^-1*e0^-1*e1 > over Integer Ring"
      ]
     },
     "execution_count": 12,
     "metadata": {},
     "output_type": "execute_result"
    }
   ],
   "source": [
    "torus = simplicial_sets.Torus()\n",
    "C_torus = complexOfUniversalCover(torus, simplify_group=True)\n",
    "C_torus[1].base_ring()"
   ]
  },
  {
   "cell_type": "markdown",
   "id": "fca9d8f5",
   "metadata": {},
   "source": [
    "We print \"C_torus\" by using the function latex(C_torus):\n",
    "\n",
    "$$\\left\\{1 :\\; \\left(\\begin{array}{rrr}\n",
    "-1 + e_{0} & -1 + e_{1} & -1 + e_{0}\\cdot e_{1}\n",
    "\\end{array}\\right), \\quad2 :\\; \\left(\\begin{array}{rr}\n",
    "1 & e_{1} \\\\\n",
    "e_{0} & 1 \\\\\n",
    "-1 & -1\n",
    "\\end{array}\\right)\\right\\}$$"
   ]
  },
  {
   "cell_type": "markdown",
   "id": "b7ee2709",
   "metadata": {},
   "source": [
    "Next we use a triangulation of the Klein Bottle as $\\Delta$-complex with two $2$-simplices."
   ]
  },
  {
   "cell_type": "code",
   "execution_count": 13,
   "id": "19501754",
   "metadata": {},
   "outputs": [
    {
     "data": {
      "text/plain": [
       "Algebra of Finitely presented group < e0, e1 | e0*e1^-1*e0*e1 > over Integer Ring"
      ]
     },
     "execution_count": 13,
     "metadata": {},
     "output_type": "execute_result"
    }
   ],
   "source": [
    "kleinBottle = simplicial_sets.KleinBottle();\n",
    "C_kleinBottle= complexOfUniversalCover(kleinBottle, True)\n",
    "C_kleinBottle[1].base_ring()"
   ]
  },
  {
   "cell_type": "markdown",
   "id": "468b2e8b",
   "metadata": {},
   "source": [
    "Printing the computed chain complex of the universal cover of the Klein bottle in LaTeX gives:\n",
    "\n",
    "$$\\left\\{1 :\\; \\left(\\begin{array}{rrr}\n",
    "-1 + e_{0} & -1 + e_{1} & -1 + e_{0}\\cdot e_{1}\n",
    "\\end{array}\\right), \\quad 2 :\\; \\left(\\begin{array}{rr}\n",
    "1 & e_{0}\\cdot e_{1} \\\\\n",
    "e_{0} & -1 \\\\\n",
    "-1 & 1\n",
    "\\end{array}\\right)\\right\\}$$"
   ]
  },
  {
   "cell_type": "markdown",
   "id": "865f4132",
   "metadata": {},
   "source": [
    "Let us try a random simplicial complex of dimension 4 with 11 vertices."
   ]
  },
  {
   "cell_type": "code",
   "execution_count": 14,
   "id": "81d7af72",
   "metadata": {},
   "outputs": [
    {
     "data": {
      "text/plain": [
       "True"
      ]
     },
     "execution_count": 14,
     "metadata": {},
     "output_type": "execute_result"
    }
   ],
   "source": [
    "RdCom =SimplicialSet(simplicial_complexes.RandomComplex(11,4))\n",
    "RdCom.is_connected()"
   ]
  },
  {
   "cell_type": "code",
   "execution_count": 15,
   "id": "d501b1ce",
   "metadata": {},
   "outputs": [
    {
     "data": {
      "text/plain": [
       "{1: 11 x 55 dense matrix over Algebra of Finitely presented group <  |  > over Integer Ring,\n",
       " 2: 55 x 165 dense matrix over Algebra of Finitely presented group <  |  > over Integer Ring,\n",
       " 3: 165 x 330 dense matrix over Algebra of Finitely presented group <  |  > over Integer Ring,\n",
       " 4: 330 x 226 dense matrix over Algebra of Finitely presented group <  |  > over Integer Ring}"
      ]
     },
     "execution_count": 15,
     "metadata": {},
     "output_type": "execute_result"
    }
   ],
   "source": [
    "complexOfUniversalCover(RdCom, simplify_group=True)"
   ]
  },
  {
   "cell_type": "markdown",
   "id": "2e65afe4",
   "metadata": {},
   "source": [
    "RdCom is simply-connected and so we just computed its normalized chain complex "
   ]
  },
  {
   "cell_type": "markdown",
   "id": "8203bf26",
   "metadata": {},
   "source": [
    "Next we try a triangulation of the Poincaré homology $3$-sphere triangulated as simplicial complex."
   ]
  },
  {
   "cell_type": "code",
   "execution_count": 16,
   "id": "aed434d6",
   "metadata": {},
   "outputs": [],
   "source": [
    "P_S3 = SimplicialSet(simplicial_complexes.PoincareHomologyThreeSphere())"
   ]
  },
  {
   "cell_type": "code",
   "execution_count": 17,
   "id": "4a4a9111",
   "metadata": {},
   "outputs": [
    {
     "data": {
      "text/plain": [
       "{1: 16 x 106 dense matrix over Algebra of Finitely presented group < e2, e5 | e2*e5^-1*e2^-1*e5^-1*e2*e5, e5^-1*e2*e5*e2^-1*e5*e2*e5^-1 > over Integer Ring,\n",
       " 2: 106 x 180 dense matrix over Algebra of Finitely presented group < e2, e5 | e2*e5^-1*e2^-1*e5^-1*e2*e5, e5^-1*e2*e5*e2^-1*e5*e2*e5^-1 > over Integer Ring,\n",
       " 3: 180 x 90 dense matrix over Algebra of Finitely presented group < e2, e5 | e2*e5^-1*e2^-1*e5^-1*e2*e5, e5^-1*e2*e5*e2^-1*e5*e2*e5^-1 > over Integer Ring}"
      ]
     },
     "execution_count": 17,
     "metadata": {},
     "output_type": "execute_result"
    }
   ],
   "source": [
    "complexOfUniversalCover(P_S3, simplify_group=True) "
   ]
  },
  {
   "cell_type": "markdown",
   "id": "c1d91c80",
   "metadata": {},
   "source": [
    "## Construction of normal covering space "
   ]
  },
  {
   "cell_type": "markdown",
   "id": "96791d79",
   "metadata": {},
   "source": [
    "The following algorithm is an implementation of part 2 of algorithm (2) given in the enclosed bachelor thesis. The following function is not meant to be directly called but will be used in later functions."
   ]
  },
  {
   "cell_type": "code",
   "execution_count": 21,
   "id": "923cee2e",
   "metadata": {},
   "outputs": [],
   "source": [
    "def ConstructionCoveringSpace(X, G, gens):\n",
    "    if not X.is_finite():\n",
    "        raise ValueError(\"given simplicial set might not be finite\")\n",
    "    f_vec = X.f_vector()\n",
    "    if len(f_vec)<2:\n",
    "        return X\n",
    "    G_list = G.list()\n",
    "    card = len(G_list)\n",
    "    \n",
    "    simp = {n: dict() for n in range(len(f_vec))}\n",
    "    deckTrnsf = {n: [] for n in range(1, len(f_vec))} \n",
    "    for n in range(len(f_vec)):\n",
    "        for s in X.n_cells(n):\n",
    "            simp[n][s]=[AbstractSimplex(n, name = str(G_list[i])+str(s)) for i in range(card)]\n",
    "    sSet = dict() # the simplicial covering space\n",
    "    f =dict() #the simplicial covering map \n",
    "    for v in X.n_cells(0):\n",
    "        for i in range(card):\n",
    "            sSet[simp[0][v][i]]= None\n",
    "            f[simp[0][v][i]] = v\n",
    "    for e in X.n_cells(1):\n",
    "        d0 = X.face(e,0); d1 = X.face(e,1)\n",
    "        if e in gens: \n",
    "            for i in range(card):\n",
    "                ie = G_list.index(G_list[i]*G.gen(gens.index(e)))\n",
    "                sSet[simp[1][e][i]]=( simp[0][d0][ie], simp[0][d1][i])\n",
    "                f[simp[1][e][i]]= e\n",
    "            deckTrnsf[1].append(G.gen(gens.index(e))) \n",
    "        else: \n",
    "            for i in range(card):\n",
    "                sSet[simp[1][e][i]]=(simp[0][d0][i], simp[0][d1][i])\n",
    "                f[simp[1][e][i]]= e\n",
    "            deckTrnsf[1].append(1)\n",
    "    for n in range(2, len(f_vec)):\n",
    "        for s in X.n_cells(n):\n",
    "            faces = [X.face(s,i).nondegenerate() for i in range(0, n+1)]\n",
    "            dimns = [faces[i].dimension() for i in range(0,n+1)]\n",
    "            degens = [X.face(s,i).degeneracies() for i in range(0, n+1)]\n",
    "            g0 = G.one()\n",
    "            if degens[n]==[] or min(degens[n])>0:\n",
    "                g0 = deckTrnsf[dimns[n]][X.n_cells(dimns[n]).index(faces[n])]\n",
    "            deckTrnsf[n].append(g0)\n",
    "            for i in range(card):\n",
    "                ig0 = G_list.index(G_list[i]*g0)\n",
    "                d0_i_s = simp[dimns[0]][faces[0]][ig0]\n",
    "                d0_i_s = d0_i_s.apply_degeneracies(*degens[0])\n",
    "                faces_i_s = [d0_i_s]\n",
    "                for j in range(1,n+1):\n",
    "                    dj_i_s = simp[dimns[j]][faces[j]][i]\n",
    "                    dj_i_s = dj_i_s.apply_degeneracies(*degens[j])\n",
    "                    faces_i_s.append(dj_i_s)\n",
    "                sSet[simp[n][s][i]]=tuple(faces_i_s)\n",
    "                f[simp[n][s][i]]= s\n",
    "    Z = SimplicialSet(sSet)\n",
    "    f = SimplicialSetMorphism(f, Z, X)\n",
    "    return f"
   ]
  },
  {
   "cell_type": "markdown",
   "id": "fe5851d7",
   "metadata": {},
   "source": [
    "A small test for the universal cover of simplicial set that is not a $\\Delta$-complex."
   ]
  },
  {
   "cell_type": "code",
   "execution_count": 19,
   "id": "97aaa990",
   "metadata": {},
   "outputs": [],
   "source": [
    "S2 = simplicial_sets.Sphere(2)\n",
    "RP2 = simplicial_sets.RealProjectiveSpace(2)\n",
    "S2xRP2 = S2.product(RP2)\n",
    "G, gens = fundamental_group_w_gens(S2xRP2)"
   ]
  },
  {
   "cell_type": "markdown",
   "id": "a4cd8b21",
   "metadata": {},
   "source": [
    "The universal cover of $S^2\\times \\mathbb{R}P^2$ is $S^2\\times S^2$. By the Künneth theorem it has the following reduced homology:"
   ]
  },
  {
   "cell_type": "code",
   "execution_count": 22,
   "id": "115d0804",
   "metadata": {},
   "outputs": [
    {
     "data": {
      "text/plain": [
       "{0: 0, 1: 0, 2: Z x Z, 3: 0, 4: Z}"
      ]
     },
     "execution_count": 22,
     "metadata": {},
     "output_type": "execute_result"
    }
   ],
   "source": [
    "ConstructionCoveringSpace(S2xRP2, G,gens).domain().homology()"
   ]
  },
  {
   "cell_type": "markdown",
   "id": "5c68a91a",
   "metadata": {},
   "source": [
    "### Variant 1: User has to compute spanning tree"
   ]
  },
  {
   "cell_type": "markdown",
   "id": "27ff6ed2",
   "metadata": {},
   "source": [
    "The next function implements algorithm (2) in the unmodified version from the bachelor thesis. \n",
    "\n",
    "This version of the algorithm requires the user to give a finite simplicial set $X$ together with edges $e_1,\\dots, e_m \\in X_1^{\\text{nd}}$ contained in a list $gens=[e_1,\\dots, e_m]$ such that $X_1^{\\text{nd}}\\setminus \\{e_1,\\dots, e_m\\}$ form the edges of a spanning tree in the $1$-skeleton of $X$. Whether this is satisfied, is checked by the following implementation. \n",
    "\n",
    "Further, the function has as input a list $N$ of elements in the free group $F(\\{e_1,\\dots, e_m\\})$, such that the quotient of $F(\\{e_1,\\dots, e_m\\})$ by $N$ union relations in $\\pi_1(X)$ is a finite group $G$.\n",
    "\n",
    "The algorithm returns a morphism of simplicial sets $f: Z \\to X$ such that $f$ is a covering projection and $f_*(\\pi_1(Z))$ is the normal subgroup of $\\pi_1(X)$ generated by the elements in $N$. Further, $Z$ is a finite, connected simplicial set."
   ]
  },
  {
   "cell_type": "code",
   "execution_count": 23,
   "id": "1672176c",
   "metadata": {},
   "outputs": [],
   "source": [
    "def NormalCoveringSpaceTree(X, gens, N): \n",
    "    \n",
    "    #X the simplicial set,\n",
    "    #gens the list of edges not in spanning tree,\n",
    "    #N relations in the free group F(gens)\n",
    "    \n",
    "    if X.dimension()<1:\n",
    "        return X\n",
    "    if not X.is_connected():\n",
    "        raise ValueError(\"given simplicial set not connected\")\n",
    "        \n",
    "    #next we check wether sk_1(X)-gens is a spanning tree in sk_1(X)\n",
    "    treeSimplices = {}\n",
    "    for e in [item for item in X.n_cells(1) if item not in gens]:\n",
    "        treeSimplices[e]=(X.face(e,0), X.face(e,1))\n",
    "    for v in X.n_cells(0):\n",
    "        treeSimplices[v]=None\n",
    "    tree = SimplicialSet(treeSimplices)\n",
    "    if not tree.is_connected():\n",
    "        raise ValueError(\"sk_1(X)-gens not spanning subgraph of sk_1(X)\")\n",
    "    if not tree.is_acyclic():\n",
    "        raise ValueError(\"sk_1(X)-gens is not acyclic\")\n",
    "    if N == []: \n",
    "        FG = FreeGroup(len(gens), 'e')\n",
    "    else: \n",
    "        if not len(N[0].parent().generators())==len(gens):\n",
    "            raise ValueError(\"N not subset of free group on gens\")\n",
    "        FG = N[0].parent()\n",
    "        for i in range(len(N)):\n",
    "            if not N[i].parent()==FG:\n",
    "                raise ValueError(\"N not subset of one group\")\n",
    "                \n",
    "    #now we compute a presentation of pi_1(X)/N\n",
    "    rels = []\n",
    "    #adding the relations given by the 2-cells of X\n",
    "    for f in X.n_cells(2):\n",
    "        z = dict()\n",
    "        for i in range(3):\n",
    "            e = X.face(f,i)\n",
    "            if e.is_degenerate():\n",
    "                z[i]=FG.one()\n",
    "            elif e in gens:\n",
    "                z[i]=FG.gen(gens.index(e))\n",
    "            else: \n",
    "                z[i]=FG.one()\n",
    "        rels.append(z[0]*z[1].inverse()*z[2])\n",
    "        \n",
    "    G = FG.quotient(rels+N)\n",
    "    if not G.is_finite():\n",
    "        raise ValueError(\"The quotient pi_1(X)/N is not finite\")\n",
    "        \n",
    "    return ConstructionCoveringSpace(X, G, gens)"
   ]
  },
  {
   "cell_type": "markdown",
   "id": "5ac17e69",
   "metadata": {},
   "source": [
    "#### Some examples:"
   ]
  },
  {
   "cell_type": "markdown",
   "id": "c35b314b",
   "metadata": {},
   "source": [
    "##### A triangulation of the torus $\\mathbb{T}$ as $\\Delta$-complex with two $2$-simplices"
   ]
  },
  {
   "cell_type": "markdown",
   "id": "89641c41",
   "metadata": {},
   "source": [
    "Let us compute a covering space projection $f:Z\\to \\mathbb{T}$ such that the quotient $\\pi_1(\\mathbb{T})/\\pi_1(Z)$ equals $\\mathbb{Z}/5\\oplus \\mathbb{Z}/3$."
   ]
  },
  {
   "cell_type": "code",
   "execution_count": 24,
   "id": "ed6d5002",
   "metadata": {},
   "outputs": [
    {
     "data": {
      "text/plain": [
       "(Simplicial set with 90 non-degenerate simplices, Torus)"
      ]
     },
     "execution_count": 24,
     "metadata": {},
     "output_type": "execute_result"
    }
   ],
   "source": [
    "t=simplicial_sets.Torus()\n",
    "FG=FreeGroup(len(t.n_cells(1)), 'a')\n",
    "gens = t.n_cells(1)\n",
    "N = [FG.gen(0)^5, FG.gen(2)^3]\n",
    "f = NormalCoveringSpaceTree(t, gens, N)\n",
    "f.domain(), f.codomain()"
   ]
  },
  {
   "cell_type": "markdown",
   "id": "71ba2949",
   "metadata": {},
   "source": [
    "Let us check which homomorphism the computed covering projection f induces on homology."
   ]
  },
  {
   "cell_type": "code",
   "execution_count": 25,
   "id": "f76adb42",
   "metadata": {},
   "outputs": [
    {
     "data": {
      "text/plain": [
       "[ 1| 0  0| 0]\n",
       "[--+-----+--]\n",
       "[ 0|-5  0| 0]\n",
       "[ 0| 2  3| 0]\n",
       "[--+-----+--]\n",
       "[ 0| 0  0|15]"
      ]
     },
     "execution_count": 25,
     "metadata": {},
     "output_type": "execute_result"
    }
   ],
   "source": [
    "f.induced_homology_morphism().to_matrix()"
   ]
  },
  {
   "cell_type": "markdown",
   "id": "b1f5fed1",
   "metadata": {},
   "source": [
    "Computing Smith-Normal form of the middle matrix, corresponding to $H_1(f)$ tells us that we computed the correct covering space. From the matrix corresponding to $H_2(f)$, we see that the covering projection has degree $15$, i.e. $f$ is 15-sheeted.\n",
    "\n",
    "We repeat this example with different $N's$. "
   ]
  },
  {
   "cell_type": "code",
   "execution_count": 26,
   "id": "2f4d5006",
   "metadata": {},
   "outputs": [
    {
     "data": {
      "text/plain": [
       "[1|0 0|0]\n",
       "[-+---+-]\n",
       "[0|3 1|0]\n",
       "[0|0 2|0]\n",
       "[-+---+-]\n",
       "[0|0 0|6]"
      ]
     },
     "execution_count": 26,
     "metadata": {},
     "output_type": "execute_result"
    }
   ],
   "source": [
    "N=[FG.gen(1)^3, FG.gen(0)^2]\n",
    "t_cover = NormalCoveringSpaceTree(t, gens, N)\n",
    "t_cover.induced_homology_morphism().to_matrix()"
   ]
  },
  {
   "cell_type": "code",
   "execution_count": 28,
   "id": "9d8a5c0e",
   "metadata": {},
   "outputs": [
    {
     "data": {
      "text/plain": [
       "[ 1| 0  0| 0]\n",
       "[--+-----+--]\n",
       "[ 0| 2 -1| 0]\n",
       "[ 0| 0  3| 0]\n",
       "[--+-----+--]\n",
       "[ 0| 0  0| 6]"
      ]
     },
     "execution_count": 28,
     "metadata": {},
     "output_type": "execute_result"
    }
   ],
   "source": [
    "N=[ FG.gen(1)^2, FG.gen(0)^3]\n",
    "t_cover = NormalCoveringSpaceTree(t, t.n_cells(1), N)\n",
    "t_cover.induced_homology_morphism().to_matrix()"
   ]
  },
  {
   "cell_type": "markdown",
   "id": "3c0d35cd",
   "metadata": {},
   "source": [
    "##### A non-abelian example:\n",
    "Let us compute the universal cover of the 3-skeleton of the classifying space of the symmetric group on $3$-letters."
   ]
  },
  {
   "cell_type": "code",
   "execution_count": 29,
   "id": "06e085c2",
   "metadata": {},
   "outputs": [],
   "source": [
    "S3=SymmetricGroup(3); BS3=simplicial_sets.ClassifyingSpace(S3)"
   ]
  },
  {
   "cell_type": "code",
   "execution_count": 30,
   "id": "c3ed8046",
   "metadata": {},
   "outputs": [
    {
     "data": {
      "text/plain": [
       "Simplicial set with 156 non-degenerate simplices"
      ]
     },
     "execution_count": 30,
     "metadata": {},
     "output_type": "execute_result"
    }
   ],
   "source": [
    "BS3_k3 = BS3.n_skeleton(3); BS3_k3"
   ]
  },
  {
   "cell_type": "code",
   "execution_count": 32,
   "id": "687e42d7",
   "metadata": {},
   "outputs": [],
   "source": [
    "gens = BS3_k3.n_cells(1)\n",
    "univ_cov_BS3_k3 = NormalCoveringSpaceTree(BS3_k3, gens,[]) "
   ]
  },
  {
   "cell_type": "code",
   "execution_count": 33,
   "id": "f4712470",
   "metadata": {},
   "outputs": [
    {
     "data": {
      "text/plain": [
       "{0: 0, 1: 0, 2: 0, 3: Z^625}"
      ]
     },
     "execution_count": 33,
     "metadata": {},
     "output_type": "execute_result"
    }
   ],
   "source": [
    "ES3_sk_3 = univ_cov_BS3_k3.domain(); ES3_sk_3.homology() "
   ]
  },
  {
   "cell_type": "markdown",
   "id": "f93fc6a4",
   "metadata": {},
   "source": [
    "### Variant 2: User gives the normal subgroup by loops"
   ]
  },
  {
   "cell_type": "markdown",
   "id": "8f8117c1",
   "metadata": {},
   "source": [
    "Next we implement algorithm (2) from the enclosed bachelor thesis in the version modified by algorithm (4). \n",
    "\n",
    "So, the function has input $X$, a finite connected simplicial set, and $N$, where $N$ is a list of lists, $N=[n_0, \\dots, n_s]$.\n",
    "\n",
    "Each $n_i$ is a list of tuples $(\\sigma_{i_1}, k_{i_1}),\\dots, (\\sigma_{i_{r_i}}, k_{r_i})$ for each $\\sigma_{i_j}$ a nondegenerate $1$-simplex of $X$ and $k_{i_j}\\in \\mathbb{Z}$ such that $\\sigma_{i_1}^{k_{i_1}}*\\dots*\\sigma_{i_{r_i}}^{k_{r_i}}$ is forming a loop in the 1-skeleton of $X$. \n",
    "\n",
    "The condition that $n_i$ defines a loop says that  \n",
    "\n",
    "$$\\text{for all $j=1,\\dots, r_i$ } \\quad  \\begin{cases}\n",
    "    d_0(\\sigma_{i_j})=d_1(\\sigma_{i_{j+1\\text{ mod } r_i}}) & \\text{if } k_{i_{j}}, k_{i_{j+1  \\text{ mod } r_i}}>0\\\\\n",
    "    d_0(\\sigma_{i_j})=d_0(\\sigma_{i_{j+1\\text{ mod } r_i}}) & \\text{if } k_{i_{j}}>0 \\text{ and } k_{i_{j+1 \\text{ mod } r_i}}<0\\\\\n",
    "    d_1(\\sigma_{i_j})=d_1(\\sigma_{i_{j+1\\text{ mod } r_i}})& \\text{if } k_{i_{j}}<0 \\text{ and } k_{i_{j+1 \\text{ mod } r_i}}>0\\\\\n",
    "    d_1(\\sigma_{i_j})=d_0(\\sigma_{i_{j+1\\text{ mod } r_i}})& \\text{if } k_{i_{j}}, k_{i_{j+1 \\text{ mod } r_i}}<0.\n",
    "\\end{cases}\n",
    "$$ \n",
    "and $d_0(\\sigma_{i_j})=d_1(\\sigma_{i_j})$ if $|k_{i_j}|>1$.\n",
    "\n",
    "\n",
    "The function returns a simplicial covering space projection $f: Z\\to X$ such that $f_*(\\pi_1(Z))$ equals the normal subgroup of $\\pi_1(X)$ generated by the loops in $N$. Further, $Z$ is a finite, connected simplicial set.\n",
    "\n",
    "If the function is called with the boolean check set to True, then it is check whether $N$ is of the above form."
   ]
  },
  {
   "cell_type": "code",
   "execution_count": 34,
   "id": "411e1aba",
   "metadata": {},
   "outputs": [],
   "source": [
    "def NormalCoveringSpaceLoops(X, N, check=True):\n",
    "    \n",
    "    #X a finite connected simplicial set, \n",
    "    #N loops in the 1-skeleton of X given in the above form\n",
    "    \n",
    "    if X.dimension()<1:\n",
    "        return X\n",
    "    if not X.is_connected():\n",
    "        raise ValueError(\"given simplicial set not connected\")\n",
    "        \n",
    "    #We  check whether N is of the required form: \n",
    "    if check:\n",
    "        for n in N:\n",
    "            for j in range(len(n)):\n",
    "                s,k = n[j]\n",
    "                s1, k1 = n[(j+1)%len(n)]\n",
    "                if abs(k)>1 and X.face(s, 0)!=X.face(s, 1):\n",
    "                    raise ValueError(\"N doens't consist of loops\")\n",
    "                if k>0 and k1>0 and X.face(s, 0) != X.face(s1, 1):\n",
    "                    raise ValueError(\"N doens't consist of loops\")\n",
    "                if k>0 and k1<0 and X.face(s, 0) != X.face(s1, 0):\n",
    "                    raise ValueError(\"N doens't consist of loops\")\n",
    "                if k<0 and k1>0 and X.face(s, 1)!= X.face(s1, 1):\n",
    "                    raise ValueError(\"N doens't consist of loops\")\n",
    "                if k<0 and k1<0 and X.face(s, 1)!= X.face(s1, 0):\n",
    "                    raise ValueError(\"N doens't consist of loops\")\n",
    "                      \n",
    "    # let us compute a presentation of the fundamental group G of X\n",
    "    graph = X.graph() #graph with edges the non-degenerate 1-cells\n",
    "    edges = [e[2] for e in graph.edges()]\n",
    "    spanning_tree = [e[2] for e in graph.min_spanning_tree()]\n",
    "    gens = [e for e in edges if e not in spanning_tree]\n",
    "    FG = FreeGroup(len(gens), 'e')\n",
    "    rels = []\n",
    "    #adding the relations given by the 2-cells\n",
    "    for f in X.n_cells(2):\n",
    "        z = dict()\n",
    "        for i in range(3):\n",
    "            e = X.face(f,i)\n",
    "            if e.is_degenerate():\n",
    "                z[i]=FG.one()\n",
    "            elif e in spanning_tree:\n",
    "                z[i]=FG.one()\n",
    "            else: \n",
    "                z[i]=FG.gen(gens.index(e))\n",
    "        rels.append(z[0]*z[1].inverse()*z[2])\n",
    "    \n",
    "    # presentation of normal subgroup of pi_1(X) generated by N\n",
    "    N_pr = []\n",
    "    for n in N:\n",
    "        n_pr=FG.one()\n",
    "        for e,k in n:\n",
    "            if e in gens:\n",
    "                n_pr=n_pr*FG.gen(gens.index(e))^k\n",
    "        N_pr.append(n_pr)\n",
    "    \n",
    "    G = FG.quotient(rels+N_pr)\n",
    "    \n",
    "    return ConstructionCoveringSpace(X, G, gens)"
   ]
  },
  {
   "cell_type": "markdown",
   "id": "f291834d",
   "metadata": {},
   "source": [
    "#### Some examples:"
   ]
  },
  {
   "cell_type": "markdown",
   "id": "86486a3d",
   "metadata": {},
   "source": [
    "##### A triangulation of the torus as $\\Delta$-complex with two $2$-simplices"
   ]
  },
  {
   "cell_type": "code",
   "execution_count": 35,
   "id": "a90619be",
   "metadata": {},
   "outputs": [],
   "source": [
    "torus = simplicial_sets.Torus()"
   ]
  },
  {
   "cell_type": "code",
   "execution_count": 36,
   "id": "d7daf4c4",
   "metadata": {},
   "outputs": [],
   "source": [
    "N=[[(torus.n_cells(1)[1], 2)], [(torus.n_cells(1)[0], -3)]]"
   ]
  },
  {
   "cell_type": "code",
   "execution_count": 37,
   "id": "9d4f26dd",
   "metadata": {},
   "outputs": [],
   "source": [
    "f = NormalCoveringSpaceLoops(torus, N, check=True)"
   ]
  },
  {
   "cell_type": "code",
   "execution_count": 38,
   "id": "f20ee409",
   "metadata": {},
   "outputs": [
    {
     "data": {
      "text/plain": [
       "(Simplicial set with 36 non-degenerate simplices, Torus)"
      ]
     },
     "execution_count": 38,
     "metadata": {},
     "output_type": "execute_result"
    }
   ],
   "source": [
    "f.domain(), f.codomain()"
   ]
  },
  {
   "cell_type": "markdown",
   "id": "1f241b1f",
   "metadata": {},
   "source": [
    "We computed a 6-sheeted covering map $f: Z\\to \\mathbb{T}$ of the torus $\\mathbb{T}$ such that $f_*\\pi_1(Z)$ is generated by $N=\\{ \\alpha^{2}, \\beta^{-3}\\}$, where $\\alpha$,$\\beta$ are loops generating $\\pi_1(\\mathbb{T})$. Let us compute the induced map on homology:"
   ]
  },
  {
   "cell_type": "code",
   "execution_count": 39,
   "id": "ab411d02",
   "metadata": {},
   "outputs": [
    {
     "data": {
      "text/plain": [
       "[ 1| 0  0| 0]\n",
       "[--+-----+--]\n",
       "[ 0| 2 -1| 0]\n",
       "[ 0| 0  3| 0]\n",
       "[--+-----+--]\n",
       "[ 0| 0  0| 6]"
      ]
     },
     "execution_count": 39,
     "metadata": {},
     "output_type": "execute_result"
    }
   ],
   "source": [
    "f.induced_homology_morphism().to_matrix()"
   ]
  },
  {
   "cell_type": "markdown",
   "id": "c829f671",
   "metadata": {},
   "source": [
    "##### Surface of genus g as connected sum of tori, wich are triangulated as above"
   ]
  },
  {
   "cell_type": "code",
   "execution_count": 40,
   "id": "9d5d5e21",
   "metadata": {},
   "outputs": [
    {
     "data": {
      "text/plain": [
       "Simplicial set with 28 non-degenerate simplices"
      ]
     },
     "execution_count": 40,
     "metadata": {},
     "output_type": "execute_result"
    }
   ],
   "source": [
    "Sg = SimplicialSet(delta_complexes.SurfaceOfGenus(2)); Sg"
   ]
  },
  {
   "cell_type": "code",
   "execution_count": 41,
   "id": "d5dfe9c0",
   "metadata": {},
   "outputs": [
    {
     "data": {
      "image/png": "[encoded data removed]",
      "text/plain": [
       "Looped multi-graph on 3 vertices"
      ]
     },
     "execution_count": 41,
     "metadata": {},
     "output_type": "execute_result"
    }
   ],
   "source": [
    "Sg.graph()"
   ]
  },
  {
   "cell_type": "code",
   "execution_count": 42,
   "id": "831f2fd2",
   "metadata": {},
   "outputs": [],
   "source": [
    "N=[[(Sg.n_cells(1)[i], 1)] for i in [0,1,2]]\n",
    "N= N+[[(Sg.n_cells(1)[i], 1),(Sg.n_cells(1)[i], -1)] for i in range(3,6)]\n",
    "N=N+[[(Sg.n_cells(1)[i], 2)] for i in [6,7]]"
   ]
  },
  {
   "cell_type": "markdown",
   "id": "ab60fc77",
   "metadata": {},
   "source": [
    "We compute a covering space projection $f: Z \\to S_g$ such that $f_*(\\pi_1(Z))=N$, where $Z$ is connected."
   ]
  },
  {
   "cell_type": "code",
   "execution_count": 43,
   "id": "ce6d17a1",
   "metadata": {},
   "outputs": [],
   "source": [
    "f = NormalCoveringSpaceLoops(Sg, N, check=True)"
   ]
  },
  {
   "cell_type": "code",
   "execution_count": 44,
   "id": "2a650ce7",
   "metadata": {},
   "outputs": [
    {
     "data": {
      "text/plain": [
       "({0: 0, 1: Z x Z x Z x Z, 2: Z}, {0: 0, 1: Z^6, 2: Z})"
      ]
     },
     "execution_count": 44,
     "metadata": {},
     "output_type": "execute_result"
    }
   ],
   "source": [
    "f.codomain().homology(), f.domain().homology()"
   ]
  },
  {
   "cell_type": "code",
   "execution_count": 45,
   "id": "d164ed14",
   "metadata": {},
   "outputs": [
    {
     "data": {
      "text/plain": [
       "[ 1| 0  0  0  0  0  0| 0]\n",
       "[--+-----------------+--]\n",
       "[ 0| 0  0  2  2  0  0| 0]\n",
       "[ 0| 0 -1 -1 -1  1  0| 0]\n",
       "[ 0| 0  1  2  1  0  0| 0]\n",
       "[ 0| 1  0  1  0  0  1| 0]\n",
       "[--+-----------------+--]\n",
       "[ 0| 0  0  0  0  0  0| 2]"
      ]
     },
     "execution_count": 45,
     "metadata": {},
     "output_type": "execute_result"
    }
   ],
   "source": [
    "f.induced_homology_morphism().to_matrix()"
   ]
  },
  {
   "cell_type": "markdown",
   "id": "f368c6e3",
   "metadata": {},
   "source": [
    "We have computed a double cover of the surface of genus $2$ by the surface of genus $3$."
   ]
  },
  {
   "cell_type": "markdown",
   "id": "8559305c",
   "metadata": {},
   "source": [
    "### Construction of classifying spaces"
   ]
  },
  {
   "cell_type": "markdown",
   "id": "d754b28a",
   "metadata": {},
   "source": [
    "The following function returns the $k$-skeleton of the classifying space of a given group. The algorithm is not meant to be used directly as SageMath can already compute classifying spaces. I just implemented this function for later use."
   ]
  },
  {
   "cell_type": "code",
   "execution_count": 46,
   "id": "e9ae3dc8",
   "metadata": {},
   "outputs": [],
   "source": [
    "def k_skeleton_of_classifing_space(G, G_list,card, k):\n",
    "    #G a finite group, G_list a list of its elements\n",
    "    #card the cardinality of the group\n",
    "    #k the dimension of the skeleton\n",
    "    \n",
    "    simp = {} \n",
    "    #simp will be dictionary with keys given by tuples \n",
    "    #each tuple will have length leq k entries in range(1,card)\n",
    "    #the values of simp are the nondegenerate simplices of BG\n",
    "    \n",
    "    simp[0]=AbstractSimplex(0, name = '()' )\n",
    "    sSet={simp[0]: None }\n",
    "    \n",
    "    # 1-cells \n",
    "    for s in range(1,card):\n",
    "        simp[(s,)]=AbstractSimplex(1, name = str(s))\n",
    "        sSet[simp[(s,)]]= (simp[0],simp[0])\n",
    "        \n",
    "    for n in range(2,k+1):\n",
    "        for s in product(range(1, card), repeat=n):\n",
    "            simp[s] = AbstractSimplex(n, name = str(s))\n",
    "            faces = []\n",
    "            faces.append(simp[s[1:]])\n",
    "            for j in range(1,n):\n",
    "                p = G_list.index(G_list[s[j-1]]*G_list[s[j]])\n",
    "                if p == 0: #degenerate case\n",
    "                    if n==2: \n",
    "                        faces.append(simp[0].apply_degeneracies(0))\n",
    "                    else:\n",
    "                        simplex = simp[s[0:(j-1)]+s[(j+1):len(s)]]\n",
    "                        simplex = simplex.apply_degeneracies(j-1)\n",
    "                        faces.append(simplex )\n",
    "                else: \n",
    "                        faces.append(simp[s[0:(j-1)]+(p,)+s[(j+1):len(s)]] )\n",
    "            faces.append(simp[s[0:(len(s)-1)]])\n",
    "            sSet[simp[s]]=tuple(faces)\n",
    "    BG = SimplicialSet(sSet, name = 'BG', base_point = simp[0])\n",
    "    return BG"
   ]
  },
  {
   "cell_type": "markdown",
   "id": "8abffe87",
   "metadata": {},
   "source": [
    "#### Very small example"
   ]
  },
  {
   "cell_type": "markdown",
   "id": "98f74fdd",
   "metadata": {},
   "source": [
    "We compute the $2$-skeleton of the classifying space of the symmetric group on $4$ letters."
   ]
  },
  {
   "cell_type": "code",
   "execution_count": 47,
   "id": "3beee088",
   "metadata": {},
   "outputs": [],
   "source": [
    "H=SymmetricGroup(4)"
   ]
  },
  {
   "cell_type": "code",
   "execution_count": 48,
   "id": "8ae32b99",
   "metadata": {},
   "outputs": [],
   "source": [
    "BH_2 = k_skeleton_of_classifing_space(H, H.list(), H.cardinality(), 2)"
   ]
  },
  {
   "cell_type": "code",
   "execution_count": 49,
   "id": "df100330",
   "metadata": {},
   "outputs": [
    {
     "name": "stdout",
     "output_type": "stream",
     "text": [
      "#I  Forcing finiteness test\n"
     ]
    },
    {
     "data": {
      "text/plain": [
       "True"
      ]
     },
     "execution_count": 49,
     "metadata": {},
     "output_type": "execute_result"
    }
   ],
   "source": [
    "BH_2.fundamental_group().is_isomorphic(SymmetricGroup(4))"
   ]
  },
  {
   "cell_type": "markdown",
   "id": "e1d0135f",
   "metadata": {},
   "source": [
    "### Classifying map of normal covering space "
   ]
  },
  {
   "cell_type": "markdown",
   "id": "7215bfc3",
   "metadata": {},
   "source": [
    "This implements part 2 of algorithm (1) from the enclosed bachelor thesis. The function is not meant to be directely called by the user, but we will use the funtion in later algorithms."
   ]
  },
  {
   "cell_type": "code",
   "execution_count": 60,
   "id": "1cd92716",
   "metadata": {},
   "outputs": [],
   "source": [
    "def construction_f_bar(X, gens, G): \n",
    "    #X the simplicial set, gens list of edges not in spanning tree,\n",
    "    #G a presentation of pi_1(X)/N with generators given by gens \n",
    "    if not X.is_finite():\n",
    "        raise ValueError(\"given simplicial set might not be finite\")\n",
    "        \n",
    "    f_vec = X.f_vector()\n",
    "\n",
    "    if not G.is_finite():\n",
    "        raise ValueError(\"the quotient pi_1(X)/N is not finite\")\n",
    "        \n",
    "    G_list = G.list()\n",
    "    card = len(G_list)\n",
    "    \n",
    "    #construction of the dim X skeleton of BG: \n",
    "    simp = {} \n",
    "    #simp will be dictionary with keys given by tuples \n",
    "    #each tuple will have length leq k entries in range(1,card)\n",
    "    #the values of simp are the nondegenerate simplices of BG\n",
    "    \n",
    "    simp[0]=AbstractSimplex(0, name = '()' )\n",
    "    sSet={simp[0]: None }\n",
    "    # 1-cells \n",
    "    for s in range(1,card):\n",
    "        simp[(s,)]=AbstractSimplex(1, name = str(s))\n",
    "        sSet[simp[(s,)]]= (simp[0],simp[0])\n",
    "    for n in range(2,len(f_vec)):\n",
    "        for s in product(range(1, card), repeat=n):\n",
    "            simp[s] = AbstractSimplex(n, name = str(s))\n",
    "            faces = []\n",
    "            faces.append(simp[s[1:]])\n",
    "            for j in range(1,n):\n",
    "                p = G_list.index(G_list[s[j-1]]*G_list[s[j]])\n",
    "                if p == 0: #degenerate case\n",
    "                    if n==2: \n",
    "                        faces.append(simp[0].apply_degeneracies(0))\n",
    "                    else:\n",
    "                        simplex = simp[s[0:(j-1)]+s[(j+1):len(s)]]\n",
    "                        simplex = simplex.apply_degeneracies(j-1)\n",
    "                        faces.append(simplex )\n",
    "                else: \n",
    "                        faces.append(simp[s[0:(j-1)]+(p,)+s[(j+1):len(s)]] )\n",
    "            faces.append(simp[s[0:(len(s)-1)]])\n",
    "            sSet[simp[s]]=tuple(faces)\n",
    "    BG = SimplicialSet(sSet, name = 'BG', base_point = simp[0])\n",
    "    \n",
    "    # the morphism of simplicial sets X to BG that classifies X\n",
    "    f = {v: simp[0] for v in X.n_cells(0)}\n",
    "    for e in X.n_cells(1):\n",
    "        if e in gens: \n",
    "            beta_e = G_list.index(G.gen(gens.index(e)))\n",
    "            if beta_e == 0:\n",
    "                f[e]=simp[0].apply_degeneracies(0)\n",
    "            else:\n",
    "                f[e]=simp[(beta_e,)]\n",
    "        else: \n",
    "            f[e]=simp[0].apply_degeneracies(0)\n",
    "    for n in range(2, len(f_vec)):\n",
    "        for sigma in X.n_cells(n):\n",
    "            d0 = X.face(sigma,0)\n",
    "            dn=X.face(sigma,n)\n",
    "            degens_n = dn.degeneracies()\n",
    "            und_f_d0 = f[d0.nondegenerate()].nondegenerate()\n",
    "            und_f_dn = f[dn.nondegenerate()].nondegenerate()\n",
    "            degens_f_d0 = f[d0.nondegenerate()].degeneracies()\n",
    "            degens_f_dn = f[dn.nondegenerate()].degeneracies()\n",
    "            s0 = [s for s, simplex in simp.items() if simplex == und_f_d0][0] \n",
    "            #s0 is und_f_d0 as tuple\n",
    "            sn = [s for s, simplex in simp.items() if simplex == und_f_dn][0]\n",
    "            \n",
    "            dim_d0 = d0.dimension()\n",
    "            dim_d0_nd = d0.nondegenerate().dimension()\n",
    "            \n",
    "            cond = False \n",
    "            if und_f_d0.dimension()==0:\n",
    "                cond = True\n",
    "            if d0.degeneracies() != [] and d0.degeneracies()[0]>=dim_d0-1:\n",
    "                cond = True \n",
    "            if degens_f_d0 != [] and degens_f_d0[0]>=dim_d0_nd-1:\n",
    "                cond = True \n",
    "            \n",
    "            if und_f_dn.dimension()==0 and cond:\n",
    "                f[sigma]=simp[0].apply_degeneracies(*degens_f_dn)\n",
    "                f[sigma]=f[sigma].apply_degeneracies(*degens_n)\n",
    "                f[sigma]=f[sigma].apply_degeneracies(n-1)\n",
    "            if und_f_dn.dimension()==0 and not cond:\n",
    "                f[sigma]=simp[(s0[-1],)].apply_degeneracies(*degens_f_dn)\n",
    "                f[sigma]=f[sigma].apply_degeneracies(*degens_n)\n",
    "            if und_f_dn.dimension()!=0 and cond: \n",
    "                f[sigma]=simp[sn].apply_degeneracies(*degens_f_dn)\n",
    "                f[sigma]=f[sigma].apply_degeneracies(*degens_n)\n",
    "                f[sigma]=f[sigma].apply_degeneracies(n-1)\n",
    "            if und_f_dn.dimension()!=0 and not cond:\n",
    "                f[sigma]=simp[sn+(s0[-1],)].apply_degeneracies(*degens_f_dn)\n",
    "                f[sigma]=f[sigma].apply_degeneracies(*degens_n)\n",
    "                \n",
    "    return SimplicialSetMorphism(f, X, BG), BG, simp, G, G_list, card"
   ]
  },
  {
   "cell_type": "markdown",
   "id": "39df96eb",
   "metadata": {},
   "source": [
    "### Variant 1: User has to compute spanning tree"
   ]
  },
  {
   "cell_type": "markdown",
   "id": "8c7b9724",
   "metadata": {},
   "source": [
    "This function implements algorithm (1) from the enclosed bachelor thesis in the  unmodified version but omits the construction of the pullback. \n",
    "\n",
    "This version of the algorithm requires the user to give a finite simplicial set $X$ together with edges $e_1,\\dots, e_m \\in X_1^{\\text{nd}}$ contained in a list $gens=[e_1,\\dots, e_m]$ such that $X_1^{\\text{nd}}\\setminus \\{e_1,\\dots, e_m\\}$ form the edges of a spanning tree in the $1$-skeleton of $X$. Whether this is satisfied, is checked by the following implementation. \n",
    "\n",
    "Further, the function has as input a list $N$ of elements in the free group $F(\\{e_1,\\dots, e_m\\})$, such that the quotient of $F(\\{e_1,\\dots, e_m\\})$ by $N$ union relations in $\\pi_1(X)$ is a finite group $G$.\n",
    "\n",
    "The function returns a morphism of simplicial sets $f: X \\to BG$, where $BG$ is the $\\dim(X)$-skeleton of the classifying space of $G$. Further,  $\\pi_1(f)$ is surjective. Moreover, the pullback of the canonical map from the $\\dim(X)$-skeleton of $EG$ to $BG$ along $f$ yields a covering projection $f: Z \\to X$, such that $Z$ is a finite connected simplicial set and $f_*(\\pi_1(Z))$ is the normal subgroup generated by the elements of $N$."
   ]
  },
  {
   "cell_type": "code",
   "execution_count": 51,
   "id": "33a3c430",
   "metadata": {},
   "outputs": [],
   "source": [
    "def classifying_map_tree(X, gens, N):\n",
    "    return classifying_map_normal_covering_tree(X, gens, N)[0]\n",
    "\n",
    "def classifying_map_normal_covering_tree(X, gens, N): \n",
    "    #X the simplicial set,\n",
    "    #gens the list of edges not in spanning tree,\n",
    "    #N relations in the free group F(gens)\n",
    "    \n",
    "    if not X.is_connected():\n",
    "        raise ValueError(\"given simplicial set not connected\")\n",
    "        \n",
    "    #next we check wether sk_1(X)-gens is a spanning tree in sk_1(X)\n",
    "    treeSimplices = {}\n",
    "    for e in [item for item in X.n_cells(1) if item not in gens]:\n",
    "        treeSimplices[e]=(X.face(e,0), X.face(e,1))\n",
    "    for v in X.n_cells(0):\n",
    "        treeSimplices[v]=None\n",
    "    tree = SimplicialSet(treeSimplices)\n",
    "    if not tree.is_connected():\n",
    "        raise ValueError(\"sk_1(X)-gens not spanning subgraph of sk_1(X)\")\n",
    "    if not tree.is_acyclic():\n",
    "        raise ValueError(\"sk_1(X)-gens is not acyclic\")\n",
    "    if N == []: \n",
    "        FG = FreeGroup(len(gens), 'e')\n",
    "    else: \n",
    "        if not len(N[0].parent().generators())==len(gens):\n",
    "            raise ValueError(\"N not subset of free group on gens\")\n",
    "        FG = N[0].parent()\n",
    "        for i in range(len(N)):\n",
    "            if not N[i].parent()==FG:\n",
    "                raise ValueError(\"N not subset of one group\")\n",
    "                \n",
    "    #now we compute a presentation of pi_1(X)/N\n",
    "    rels = []\n",
    "    #adding the relations given by the 2-cells of X\n",
    "    for f in X.n_cells(2):\n",
    "        z = dict()\n",
    "        for i in range(3):\n",
    "            e = X.face(f,i)\n",
    "            if e.is_degenerate():\n",
    "                z[i]=FG.one()\n",
    "            elif e in gens:\n",
    "                z[i]=FG.gen(gens.index(e))\n",
    "            else: \n",
    "                z[i]=FG.one()\n",
    "        rels.append(z[0]*z[1].inverse()*z[2])\n",
    "        \n",
    "    G = FG.quotient(rels+N)\n",
    "    if not G.is_finite():\n",
    "        raise ValueError(\"The quotient pi_1(X)/N is not finite\")\n",
    "    \n",
    "    return construction_f_bar(X,gens,G)"
   ]
  },
  {
   "cell_type": "markdown",
   "id": "faeadd5c",
   "metadata": {},
   "source": [
    "#### Two small examples:"
   ]
  },
  {
   "cell_type": "markdown",
   "id": "588f0233",
   "metadata": {},
   "source": [
    "A triangulation of the torus as $\\Delta$-complex with two $2$-simplices and a map classifying a finite sheeted covering space."
   ]
  },
  {
   "cell_type": "code",
   "execution_count": 56,
   "id": "e1742631",
   "metadata": {},
   "outputs": [
    {
     "data": {
      "text/plain": [
       "Simplicial set morphism:\n",
       "  From: Torus\n",
       "  To:   BG\n",
       "  Defn: [(v_0, v_0), (s_0 v_0, sigma_1), (sigma_1, s_0 v_0), (sigma_1, sigma_1), (s_0 sigma_1, s_1 sigma_1), (s_1 sigma_1, s_0 sigma_1)] --> [(), 1, 3, 5, (1, 3), (3, 1)]"
      ]
     },
     "execution_count": 56,
     "metadata": {},
     "output_type": "execute_result"
    }
   ],
   "source": [
    "t = simplicial_sets.Torus() \n",
    "gens = t.n_cells(1)\n",
    "FG=FreeGroup(len(gens), 'a')\n",
    "N = [FG.gen(0)^7, FG.gen(1)^8]\n",
    "classifying_map_tree(t, gens, N)"
   ]
  },
  {
   "cell_type": "markdown",
   "id": "0e9aed9a",
   "metadata": {},
   "source": [
    "An example of simplicial sets which are not $\\Delta$-complexes."
   ]
  },
  {
   "cell_type": "code",
   "execution_count": 61,
   "id": "94825895",
   "metadata": {},
   "outputs": [
    {
     "data": {
      "text/plain": [
       "Simplicial set morphism:\n",
       "  From: S^2 x RP^2\n",
       "  To:   BG\n",
       "  Defn: [(v_0, 1), (s_0 v_0, f), (s_1 s_0 v_0, f * f), (sigma_2, f * f), (sigma_2, s_0 f), (sigma_2, s_1 f), (sigma_2, s_1 s_0 1), (s_0 sigma_2, s_1 f * f), (s_0 sigma_2, s_2 f * f), (s_0 sigma_2, s_2 s_1 f), (s_1 sigma_2, s_0 f * f), (s_1 sigma_2, s_2 f * f), (s_1 sigma_2, s_2 s_0 f), (s_2 sigma_2, s_0 f * f), (s_2 sigma_2, s_1 f * f), (s_2 sigma_2, s_1 s_0 f), (s_1 s_0 sigma_2, s_3 s_2 f * f), (s_2 s_0 sigma_2, s_3 s_1 f * f), (s_2 s_1 sigma_2, s_3 s_0 f * f), (s_3 s_0 sigma_2, s_2 s_1 f * f), (s_3 s_1 sigma_2, s_2 s_0 f * f), (s_3 s_2 sigma_2, s_1 s_0 f * f)] --> [(), 1, (1, 1), (1, 1), s_0 1, s_1 1, s_1 s_0 (), s_1 (1, 1), s_2 (1, 1), s_2 s_1 1, s_0 (1, 1), s_2 (1, 1), s_2 s_0 1, s_0 (1, 1), s_1 (1, 1), s_1 s_0 1, s_3 s_2 (1, 1), s_3 s_1 (1, 1), s_3 s_0 (1, 1), s_2 s_1 (1, 1), s_2 s_0 (1, 1), s_1 s_0 (1, 1)]"
      ]
     },
     "execution_count": 61,
     "metadata": {},
     "output_type": "execute_result"
    }
   ],
   "source": [
    "S2 = simplicial_sets.Sphere(2)\n",
    "RP2 = simplicial_sets.RealProjectiveSpace(2)\n",
    "S2xRP2 = S2.product(RP2)\n",
    "G, gens = fundamental_group_w_gens(S2xRP2)\n",
    "classifying_map_tree(S2xRP2, gens,[])"
   ]
  },
  {
   "cell_type": "markdown",
   "id": "ccd1a9e4",
   "metadata": {},
   "source": [
    "#### Normal covering projection as pullback from classifying map"
   ]
  },
  {
   "cell_type": "markdown",
   "id": "83e755e5",
   "metadata": {},
   "source": [
    "The following function implements all parts of algorithm (1) from the enclosed bachelor thesis in the unmodified version.\n",
    "\n",
    "This version of the algorithm requires the user to give a finite simplicial set $X$ together with edges $e_1,\\dots, e_m \\in X_1^{\\text{nd}}$ contained in a list $gens=[e_1,\\dots, e_m]$ such that $X_1^{\\text{nd}}\\setminus \\{e_1,\\dots, e_m\\}$ form the edges of a spanning tree in the $1$-skeleton of $X$. Whether this is satisfied, is checked by the following implementation. \n",
    "\n",
    "Further, the function has as input a list $N$ of elements in the free group $F(\\{e_1,\\dots, e_m\\})$, such that the quotient of $F(\\{e_1,\\dots, e_m\\})$ by $N$ union relations in $\\pi_1(X)$ is a finite group $G$.\n",
    "\n",
    "The function returns the pullback $Z$ of the diagram $X\\xrightarrow{f}BG\\xleftarrow{} EG$, where $BG$ is the $\\dim(X)$-skeleton of the classifying space of $G$, $EG$ is a universal cover of $BG$ and $f$ is a morphism of simplicial sets constructed in such a way that the following hold: \n",
    "1) The canonical map $p:Z\\to X$ is a covering projection. \n",
    "2) $Z$ is connected \n",
    "3) $p_*(\\pi_1(Z))$ is the subgroup of $\\pi_1(X)$ generated by the elements of $N$\n",
    "3) $\\pi_1(f)$ is surjective."
   ]
  },
  {
   "cell_type": "code",
   "execution_count": 62,
   "id": "091efa79",
   "metadata": {},
   "outputs": [],
   "source": [
    "def NormalCoveringSpaceFromClassifyingSpaceTree(X, gens, N): \n",
    "    \n",
    "    #X the simplicial set,\n",
    "    #gens the list of edges not in spanning tree,\n",
    "    #N relations in the free group F(gens)\n",
    "    f, BG,simpBG, G, G_list,card=classifying_map_normal_covering_tree(X,gens,N)\n",
    "    \n",
    "    # construction of the dim X skeleton of EG and the covering map q: EG to BG\n",
    "    simp = {(s,): AbstractSimplex(0, name='('+str(s)+')') for s in range(card)}\n",
    "    \n",
    "    #simp is a dictionary with keys given by tuples \n",
    "    #each tuples has entries in range(card) and length leq dim X \n",
    "    #the values of the dictionary simp are the simplices of EG\n",
    "    \n",
    "    q = {simp[(s,)]: simpBG[0] for s in range(0,card)}\n",
    "    sSet={simp[(s,)]: None for s in range(0, card)}\n",
    "    \n",
    "    for n in range(1,X.dimension()+1):\n",
    "        for s in product(range(0, card), repeat=(n+1)):\n",
    "            if not any([s[i]==s[i+1] for i in range(0, n)]):\n",
    "                # s gives non-degenerate of EG\n",
    "                simp[s] = AbstractSimplex(n, name = str(s))\n",
    "                faces = []\n",
    "                for i in range(0, n+1):\n",
    "                    if i>0 and i<n and s[i-1]==s[i+1]:\n",
    "                        simplex = simp[s[0:i]+s[(i+2):len(s)]]\n",
    "                        simplex = simplex.apply_degeneracies(i-1)\n",
    "                        faces.append(simplex)\n",
    "                    else: \n",
    "                        faces.append(simp[s[0:i]+s[(i+1):len(s)]])\n",
    "                sSet[simp[s]]=tuple(faces)\n",
    "                g_s = [G_list[s[i]].inverse()*G_list[s[i+1]] for i in range(n)]\n",
    "                q_s = [G_list.index(g) for g in g_s]\n",
    "                q[simp[s]]=simpBG[tuple(q_s)]\n",
    "    EG = SimplicialSet(sSet, name='EG', base_point=simp[(0,)])\n",
    "    q_mor = SimplicialSetMorphism(q, EG, BG)\n",
    "    return BG.pullback(f, q_mor)"
   ]
  },
  {
   "cell_type": "markdown",
   "id": "170d5f6d",
   "metadata": {},
   "source": [
    "#### Example: A triangulation of the torus as $\\Delta$-complex with two $2$-simplices"
   ]
  },
  {
   "cell_type": "code",
   "execution_count": 63,
   "id": "ea50f720",
   "metadata": {},
   "outputs": [],
   "source": [
    "t = simplicial_sets.Torus()"
   ]
  },
  {
   "cell_type": "code",
   "execution_count": 64,
   "id": "3852d1ab",
   "metadata": {},
   "outputs": [],
   "source": [
    "gens =  t.n_cells(1)\n",
    "FG=FreeGroup(len(gens))\n",
    "N = [FG.gen(0)^3, FG.gen(1)^3]"
   ]
  },
  {
   "cell_type": "code",
   "execution_count": 65,
   "id": "08523f79",
   "metadata": {},
   "outputs": [],
   "source": [
    "Z= NormalCoveringSpaceFromClassifyingSpaceTree(t, gens, N)"
   ]
  },
  {
   "cell_type": "markdown",
   "id": "0633b99a",
   "metadata": {},
   "source": [
    "We extract the covering projection from the pullback. Then, we check, whether $Z$ has the reduced homology of a torus."
   ]
  },
  {
   "cell_type": "code",
   "execution_count": 66,
   "id": "8e74cc96",
   "metadata": {},
   "outputs": [
    {
     "data": {
      "text/plain": [
       "{0: 0, 1: Z x Z, 2: Z}"
      ]
     },
     "execution_count": 66,
     "metadata": {},
     "output_type": "execute_result"
    }
   ],
   "source": [
    "p=Z.structure_map(0); Z.homology()"
   ]
  },
  {
   "cell_type": "markdown",
   "id": "059a0b96",
   "metadata": {},
   "source": [
    "The covering projection $p$ induces the following map on homology:"
   ]
  },
  {
   "cell_type": "code",
   "execution_count": 591,
   "id": "c43f4855",
   "metadata": {},
   "outputs": [
    {
     "data": {
      "text/plain": [
       "[ 1| 0  0| 0]\n",
       "[--+-----+--]\n",
       "[ 0| 3 -3| 0]\n",
       "[ 0| 0  3| 0]\n",
       "[--+-----+--]\n",
       "[ 0| 0  0| 9]"
      ]
     },
     "execution_count": 591,
     "metadata": {},
     "output_type": "execute_result"
    }
   ],
   "source": [
    "p_star = p.induced_homology_morphism(); p_star.to_matrix()"
   ]
  },
  {
   "cell_type": "markdown",
   "id": "276a30f9",
   "metadata": {},
   "source": [
    "We see that $p$ has degree $9$ and $Z$ is a $9$-sheeted covering space of the torus."
   ]
  },
  {
   "cell_type": "markdown",
   "id": "00a8dd8c",
   "metadata": {},
   "source": [
    "Let us do an example with different $N$:"
   ]
  },
  {
   "cell_type": "code",
   "execution_count": 67,
   "id": "9ddacd4d",
   "metadata": {},
   "outputs": [],
   "source": [
    "N=[FG.gen(1)^4, FG.gen(2)^3]"
   ]
  },
  {
   "cell_type": "code",
   "execution_count": 68,
   "id": "3e073e64",
   "metadata": {},
   "outputs": [],
   "source": [
    "Z= NormalCoveringSpaceFromClassifyingSpaceTree(t, gens, N) "
   ]
  },
  {
   "cell_type": "markdown",
   "id": "31260131",
   "metadata": {},
   "source": [
    "We extract the covering projection from the pullback. Then, we check, whether $Z$ has the reduced homology of a torus."
   ]
  },
  {
   "cell_type": "code",
   "execution_count": 69,
   "id": "23461d3f",
   "metadata": {},
   "outputs": [
    {
     "data": {
      "text/plain": [
       "{0: 0, 1: Z x Z, 2: Z}"
      ]
     },
     "execution_count": 69,
     "metadata": {},
     "output_type": "execute_result"
    }
   ],
   "source": [
    "p=Z.structure_map(0); Z.homology()"
   ]
  },
  {
   "cell_type": "markdown",
   "id": "15558872",
   "metadata": {},
   "source": [
    "The covering projection $p$ induces the following map on homology:"
   ]
  },
  {
   "cell_type": "code",
   "execution_count": 70,
   "id": "34e1761e",
   "metadata": {},
   "outputs": [
    {
     "data": {
      "text/plain": [
       "[ 1| 0  0| 0]\n",
       "[--+-----+--]\n",
       "[ 0| 4 -8| 0]\n",
       "[ 0|-3  9| 0]\n",
       "[--+-----+--]\n",
       "[ 0| 0  0|12]"
      ]
     },
     "execution_count": 70,
     "metadata": {},
     "output_type": "execute_result"
    }
   ],
   "source": [
    "p_star = p.induced_homology_morphism(); p_star.to_matrix()"
   ]
  },
  {
   "cell_type": "markdown",
   "id": "22379cc3",
   "metadata": {},
   "source": [
    "By definition of $N$ the subgroup of $\\pi_1(\\mathbb{T})$ generated by the elements of $N$ is given by $4\\mathbb{Z}\\oplus 3\\mathbb{Z}$. So, the quotient of $\\pi_1(\\mathbb{T})$ by this subgroup is given by \n",
    "$\\mathbb{Z}/(4)\\oplus \\mathbb{Z}/(3)$, which is isomorphic to $\\mathbb{Z}/12$, since $3$ and $4$ are coprime. \n",
    "\n",
    "Indeed:"
   ]
  },
  {
   "cell_type": "code",
   "execution_count": 71,
   "id": "65f3d128",
   "metadata": {},
   "outputs": [
    {
     "data": {
      "text/plain": [
       "{0: 0, 1: C12, 2: Z^110}"
      ]
     },
     "execution_count": 71,
     "metadata": {},
     "output_type": "execute_result"
    }
   ],
   "source": [
    "BG=Z.defining_map(0).codomain(); BG.homology() "
   ]
  },
  {
   "cell_type": "markdown",
   "id": "1eb80fe5",
   "metadata": {},
   "source": [
    "Bringing the matrix of $H_1(p)$ computed above in Smith normal form yields:"
   ]
  },
  {
   "cell_type": "code",
   "execution_count": 72,
   "id": "4723216f",
   "metadata": {},
   "outputs": [
    {
     "data": {
      "text/plain": [
       "(\n",
       "[ 1  0]  [1 1]  [ 1 -1]\n",
       "[ 0 12], [3 4], [ 0  1]\n",
       ")"
      ]
     },
     "execution_count": 72,
     "metadata": {},
     "output_type": "execute_result"
    }
   ],
   "source": [
    "matrix([[4, -8],[-3,9]]).smith_form() "
   ]
  },
  {
   "cell_type": "markdown",
   "id": "104b9f54",
   "metadata": {},
   "source": [
    "So, indeed $H_1(\\mathbb{T})/p_*(H_1(Z))\\cong \\mathbb{Z}/12$. "
   ]
  },
  {
   "cell_type": "markdown",
   "id": "e15bdded",
   "metadata": {},
   "source": [
    "### Variant 2: User gives the normal subgroup by loops"
   ]
  },
  {
   "cell_type": "markdown",
   "id": "60bbf7c4",
   "metadata": {},
   "source": [
    "This implements algorithm (1) from the enclosed bachelor thesis in the  unmodified version but omits the construction of the pullback. \n",
    "\n",
    "So, the function has input $X$, a finite connected simplicial set, and $N$, where $N$ is a list of lists, $N=[n_0, \\dots, n_s]$.\n",
    "\n",
    "Each $n_i$ is a list of tuples $(\\sigma_{i_1}, k_{i_1}),\\dots, (\\sigma_{i_{r_i}}, k_{r_i})$ for each $\\sigma_{i_j}$ a nondegenerate $1$-simplex of $X$ and $k_{i_j}\\in \\mathbb{Z}$ such that $\\sigma_{i_1}^{k_{i_1}}*\\dots*\\sigma_{i_{r_i}}^{k_{r_i}}$ is forming a loop in the 1-skeleton of $X$. \n",
    "\n",
    "The condition that $n_i$ defines a loop says that  \n",
    "\n",
    "$$\\text{for all $j=1,\\dots, r_i$ } \\quad  \\begin{cases}\n",
    "    d_0(\\sigma_{i_j})=d_1(\\sigma_{i_{j+1\\text{ mod } r_i}}) & \\text{if } k_{i_{j}}, k_{i_{j+1  \\text{ mod } r_i}}>0\\\\\n",
    "    d_0(\\sigma_{i_j})=d_0(\\sigma_{i_{j+1\\text{ mod } r_i}}) & \\text{if } k_{i_{j}}>0 \\text{ and } k_{i_{j+1 \\text{ mod } r_i}}<0\\\\\n",
    "    d_1(\\sigma_{i_j})=d_1(\\sigma_{i_{j+1\\text{ mod } r_i}})& \\text{if } k_{i_{j}}<0 \\text{ and } k_{i_{j+1 \\text{ mod } r_i}}>0\\\\\n",
    "    d_1(\\sigma_{i_j})=d_0(\\sigma_{i_{j+1\\text{ mod } r_i}})& \\text{if } k_{i_{j}}, k_{i_{j+1 \\text{ mod } r_i}}<0.\n",
    "\\end{cases}\n",
    "$$ \n",
    "and $d_0(\\sigma_{i_j})=d_1(\\sigma_{i_j})$ if $|k_{i_j}|>1$.\n",
    "\n",
    "The function returns a morphism of simplicial sets $f: X \\to BG$, where $BG$ is the $\\dim(X)$-skeleton of the classifying space of $G$. Further,  $\\pi_1(f)$ is surjective. Moreover, the pullback of the canonical map from the $\\dim(X)$-skeleton of $EG$ to $BG$ along $f$ yields a covering projection $f: Z \\to X$, such that $Z$ is a finite connected simplicial set and $f_*(\\pi_1(Z))$ is the normal subgroup generated by the elements of $N$.\n",
    "\n",
    "If the function is called with the boolean check set to True, then it is check whether $N$ is of the above form."
   ]
  },
  {
   "cell_type": "code",
   "execution_count": 73,
   "id": "9163be81",
   "metadata": {},
   "outputs": [],
   "source": [
    "def classifying_map_loops(X, N, check=True):\n",
    "    return classifying_map_normal_covering_loops(X, N, check)[0]\n",
    "\n",
    "def classifying_map_normal_covering_loops(X, N, check=True):\n",
    "    \n",
    "    #X a finite connected simplicial set, \n",
    "    #N loops in the 1-skeleton of X given in the above form\n",
    "    \n",
    "    if not X.is_connected():\n",
    "        raise ValueError(\"given simplicial set not connected\")\n",
    "        \n",
    "    #We  check whether N is of the required form: \n",
    "    if check:\n",
    "        for n in N:\n",
    "            for j in range(len(n)):\n",
    "                s,k = n[j]\n",
    "                s1, k1 = n[(j+1)%len(n)]\n",
    "                if abs(k)>1 and X.face(s, 0)!=X.face(s, 1):\n",
    "                    raise ValueError(\"N doens't consist of loops\")\n",
    "                if k>0 and k1>0 and X.face(s, 0) != X.face(s1, 1):\n",
    "                    raise ValueError(\"N doens't consist of loops\")\n",
    "                if k>0 and k1<0 and X.face(s, 0) != X.face(s1, 0):\n",
    "                    raise ValueError(\"N doens't consist of loops\")\n",
    "                if k<0 and k1>0 and X.face(s, 1)!= X.face(s1, 1):\n",
    "                    raise ValueError(\"N doens't consist of loops\")\n",
    "                if k<0 and k1<0 and X.face(s, 1)!= X.face(s1, 0):\n",
    "                    raise ValueError(\"N doens't consist of loops\")\n",
    "                      \n",
    "    #we compute a presentation of the fundamental group G of X\n",
    "    graph = X.graph() #graph with edges the non-degenerate 1-cells\n",
    "    edges = [e[2] for e in graph.edges()]\n",
    "    spanning_tree = [e[2] for e in graph.min_spanning_tree()]\n",
    "    gens = [e for e in edges if e not in spanning_tree]\n",
    "    FG = FreeGroup(len(gens), 'e')\n",
    "    rels = []\n",
    "    #adding the relations given by the 2-cells\n",
    "    for f in X.n_cells(2):\n",
    "        z = dict()\n",
    "        for i in range(3):\n",
    "            e = X.face(f,i)\n",
    "            if e.is_degenerate():\n",
    "                z[i]=FG.one()\n",
    "            elif e in spanning_tree:\n",
    "                z[i]=FG.one()\n",
    "            else: \n",
    "                z[i]=FG.gen(gens.index(e))\n",
    "        rels.append(z[0]*z[1].inverse()*z[2])\n",
    "    \n",
    "    # presentation of normal subgroup of pi_1(X) generated by N\n",
    "    N_pr = []\n",
    "    for n in N:\n",
    "        n_pr=FG.one()\n",
    "        for e,k in n:\n",
    "            if e in gens:\n",
    "                n_pr=n_pr*FG.gen(gens.index(e))^k\n",
    "        N_pr.append(n_pr)\n",
    "    \n",
    "    G = FG.quotient(rels+N_pr)\n",
    "    \n",
    "    return construction_f_bar(X,gens,G)"
   ]
  },
  {
   "cell_type": "markdown",
   "id": "54a5fe0c",
   "metadata": {},
   "source": [
    "#### A example: Triangulation of the torus as $\\Delta$-complex with two $2$-simplices."
   ]
  },
  {
   "cell_type": "code",
   "execution_count": 74,
   "id": "6244730f",
   "metadata": {},
   "outputs": [],
   "source": [
    "torus = simplicial_sets.Torus()"
   ]
  },
  {
   "cell_type": "code",
   "execution_count": 75,
   "id": "7fa6748f",
   "metadata": {},
   "outputs": [],
   "source": [
    "N=[[(torus.n_cells(1)[1], 2)], [(torus.n_cells(1)[0], -3)]]"
   ]
  },
  {
   "cell_type": "code",
   "execution_count": 76,
   "id": "59d52b2f",
   "metadata": {},
   "outputs": [
    {
     "data": {
      "text/plain": [
       "Simplicial set morphism:\n",
       "  From: Torus\n",
       "  To:   BG\n",
       "  Defn: [(v_0, v_0), (s_0 v_0, sigma_1), (sigma_1, s_0 v_0), (sigma_1, sigma_1), (s_0 sigma_1, s_1 sigma_1), (s_1 sigma_1, s_0 sigma_1)] --> [(), 1, 3, 4, (1, 3), (3, 1)]"
      ]
     },
     "execution_count": 76,
     "metadata": {},
     "output_type": "execute_result"
    }
   ],
   "source": [
    "f = classifying_map_loops(torus, N, check=True); f"
   ]
  },
  {
   "cell_type": "markdown",
   "id": "04563082",
   "metadata": {},
   "source": [
    "#### Normal covering projection as pullback"
   ]
  },
  {
   "cell_type": "markdown",
   "id": "7ffa0a10",
   "metadata": {},
   "source": [
    "The following function implements all parts of algorithm (1) from the enclosed bachelor thesis in the version modified as in algorithm (4). \n",
    "\n",
    "So, the function has input $X$, a finite connected simplicial set, and $N$, where $N$ is a list of lists, $N=[n_0, \\dots, n_s]$.\n",
    "\n",
    "Each $n_i$ is a list of tuples $(\\sigma_{i_1}, k_{i_1}),\\dots, (\\sigma_{i_{r_i}}, k_{r_i})$ for each $\\sigma_{i_j}$ a nondegenerate $1$-simplex of $X$ and $k_{i_j}\\in \\mathbb{Z}$ such that $\\sigma_{i_1}^{k_{i_1}}*\\dots*\\sigma_{i_{r_i}}^{k_{r_i}}$ is forming a loop in the 1-skeleton of $X$. \n",
    "\n",
    "The condition that $n_i$ defines a loop says that  \n",
    "\n",
    "$$\\text{for all $j=1,\\dots, r_i$ } \\quad  \\begin{cases}\n",
    "    d_0(\\sigma_{i_j})=d_1(\\sigma_{i_{j+1\\text{ mod } r_i}}) & \\text{if } k_{i_{j}}, k_{i_{j+1  \\text{ mod } r_i}}>0\\\\\n",
    "    d_0(\\sigma_{i_j})=d_0(\\sigma_{i_{j+1\\text{ mod } r_i}}) & \\text{if } k_{i_{j}}>0 \\text{ and } k_{i_{j+1 \\text{ mod } r_i}}<0\\\\\n",
    "    d_1(\\sigma_{i_j})=d_1(\\sigma_{i_{j+1\\text{ mod } r_i}})& \\text{if } k_{i_{j}}<0 \\text{ and } k_{i_{j+1 \\text{ mod } r_i}}>0\\\\\n",
    "    d_1(\\sigma_{i_j})=d_0(\\sigma_{i_{j+1\\text{ mod } r_i}})& \\text{if } k_{i_{j}}, k_{i_{j+1 \\text{ mod } r_i}}<0.\n",
    "\\end{cases}\n",
    "$$ \n",
    "and $d_0(\\sigma_{i_j})=d_1(\\sigma_{i_j})$ if $|k_{i_j}|>1$.\n",
    "\n",
    "If the function is called with the boolean check set to True, then it is check whether $N$ is of the above form.\n",
    "\n",
    "The function returns the pullback $Z$ of the diagram $X\\xrightarrow{f}BG\\xleftarrow{} EG$, where $BG$ is the $\\dim(X)$-skeleton of the classifying space of $G$, $EG$ is a universal cover of $BG$ and $f$ is a morphism of simplicial sets constructed in such a way that the following hold: \n",
    "1) The canonical map $p:Z\\to X$ is a covering projection. \n",
    "2) $Z$ is connected \n",
    "3) $p_*(\\pi_1(Z))$ is the subgroup of $\\pi_1(X)$ generated by the elements of $N$\n",
    "3) $\\pi_1(f)$ is surjective."
   ]
  },
  {
   "cell_type": "code",
   "execution_count": 77,
   "id": "a4a19434",
   "metadata": {},
   "outputs": [],
   "source": [
    "def NormalCoveringSpaceFromClassifyingSpaceLoops(X, N, check=True): \n",
    "    #X a finite connected simplicial set\n",
    "    #N loops in pi_1(X) generating a normal subgroup of fin. index\n",
    "    f,BG,simpBG, G,G_list,card=classifying_map_normal_covering_loops(X,N,check)\n",
    "\n",
    "    # construction of the dim X skeleton of EG and the covering map q: EG to BG\n",
    "    \n",
    "    simp = {(s,): AbstractSimplex(0, name='('+str(s)+')') for s in range(card)}\n",
    "    #simp is a dictionary with keys given by tuples \n",
    "    #each tuples has entries in range(card) and length leq dim X \n",
    "    #the values of the dictionary simp are the simplices of EG\n",
    "    \n",
    "    q = {simp[(s,)]: simpBG[0] for s in range(0,card)}\n",
    "    sSet={simp[(s,)]: None for s in range(0, card)}\n",
    "    \n",
    "    for n in range(1,X.dimension()+1):\n",
    "        for s in product(range(0, card), repeat=(n+1)):\n",
    "            if not any([s[i]==s[i+1] for i in range(0, n)]):\n",
    "                # s gives non-degenerate of EG\n",
    "                simp[s] = AbstractSimplex(n, name = str(s))\n",
    "                faces = []\n",
    "                for i in range(0, n+1):\n",
    "                    if i>0 and i<n and s[i-1]==s[i+1]:\n",
    "                        simplex = simp[s[0:i]+s[(i+2):len(s)]]\n",
    "                        simplex = simplex.apply_degeneracies(i-1)\n",
    "                        faces.append(simplex)\n",
    "                    else: \n",
    "                        faces.append(simp[s[0:i]+s[(i+1):len(s)]])\n",
    "                sSet[simp[s]]=tuple(faces)\n",
    "                g_s = [G_list[s[i]].inverse()*G_list[s[i+1]] for i in range(n)]\n",
    "                q_s = [G_list.index(g) for g in g_s]\n",
    "                q[simp[s]]=simpBG[tuple(q_s)]\n",
    "    EG = SimplicialSet(sSet, name='EG', base_point=simp[(0,)])\n",
    "    q_mor = SimplicialSetMorphism(q, EG, BG)\n",
    "    return BG.pullback(f, q_mor)"
   ]
  },
  {
   "cell_type": "markdown",
   "id": "07f903ff",
   "metadata": {},
   "source": [
    "##### Example: A triangulation of the torus as a $\\Delta$-complex with two $2$-simplices:"
   ]
  },
  {
   "cell_type": "markdown",
   "id": "b51a1390",
   "metadata": {},
   "source": [
    "We compute a double cover of the torus by pullying back the universal covering projection $S^2\\to \\mathbb{R}P^2$."
   ]
  },
  {
   "cell_type": "code",
   "execution_count": 78,
   "id": "b601e7f1",
   "metadata": {},
   "outputs": [],
   "source": [
    "torus=simplicial_sets.Torus()"
   ]
  },
  {
   "cell_type": "code",
   "execution_count": 79,
   "id": "0814b2d7",
   "metadata": {},
   "outputs": [],
   "source": [
    "N=[[(torus.n_cells(1)[1], 1)], [(torus.n_cells(1)[0], 2)]]"
   ]
  },
  {
   "cell_type": "code",
   "execution_count": 80,
   "id": "c6a1d22f",
   "metadata": {},
   "outputs": [],
   "source": [
    "Z = NormalCoveringSpaceFromClassifyingSpaceLoops(torus, N)"
   ]
  },
  {
   "cell_type": "code",
   "execution_count": 81,
   "id": "391926e7",
   "metadata": {},
   "outputs": [
    {
     "data": {
      "text/plain": [
       "{0: 0, 1: Z x Z, 2: Z}"
      ]
     },
     "execution_count": 81,
     "metadata": {},
     "output_type": "execute_result"
    }
   ],
   "source": [
    "Z.homology()"
   ]
  },
  {
   "cell_type": "code",
   "execution_count": 82,
   "id": "07c98677",
   "metadata": {},
   "outputs": [
    {
     "data": {
      "text/plain": [
       "[ 1| 0  0| 0]\n",
       "[--+-----+--]\n",
       "[ 0| 1 -1| 0]\n",
       "[ 0| 0  2| 0]\n",
       "[--+-----+--]\n",
       "[ 0| 0  0| 2]"
      ]
     },
     "execution_count": 82,
     "metadata": {},
     "output_type": "execute_result"
    }
   ],
   "source": [
    "Z.structure_map(0).induced_homology_morphism().to_matrix()"
   ]
  },
  {
   "cell_type": "markdown",
   "id": "943af24e",
   "metadata": {},
   "source": [
    "#  Join of simplicial sets and construction of lens spaces"
   ]
  },
  {
   "cell_type": "markdown",
   "id": "99a17ee8",
   "metadata": {},
   "source": [
    "### Join of two simplicial sets"
   ]
  },
  {
   "cell_type": "markdown",
   "id": "2dd5749e",
   "metadata": {},
   "source": [
    "For later use we compute the join of simplicial sets. "
   ]
  },
  {
   "cell_type": "code",
   "execution_count": 83,
   "id": "35eaed38",
   "metadata": {},
   "outputs": [],
   "source": [
    "def join(s,t, simplices_non_distinct = True):\n",
    "    if not (s.is_finite() and t.is_finite()):\n",
    "        raise ValueError(\"the given simplicial sets might not be finite\")\n",
    "        \n",
    "    # we force s,t to have no simplices in common\n",
    "    if simplices_non_distinct:\n",
    "        t = copy(t) \n",
    "    #the naming of the simplices in this copy is not always as one expects\n",
    "    simplices = {}\n",
    "    data = {}\n",
    "    for d in range(len(s.f_vector())+len(t.f_vector())+1): #dim of the join\n",
    "        for i in range(-1, d+1):\n",
    "            if i == -1: \n",
    "                for simp in s.n_cells(d):\n",
    "                    simplices[simp]=s.faces(simp)\n",
    "            elif d-i-1 >= 0:\n",
    "                for simp1 in s.n_cells(i):\n",
    "                    for simp2 in t.n_cells(d-i-1):\n",
    "                        name = str(simp1) + ' join ' +str(simp2)\n",
    "                        simp = AbstractSimplex(d, name=name)\n",
    "                        data[(simp1, simp2)] = simp   \n",
    "                        simp_faces = []\n",
    "                        for k in range(d+1):\n",
    "                            if  k <= i: \n",
    "                                if i==0:\n",
    "                                    simp_faces.append(simp2)\n",
    "                                elif s.face(simp1,k).is_nondegenerate():\n",
    "                                    simp_faces.append(data[(s.face(simp1,k),simp2)])\n",
    "                                else:\n",
    "                                    f = s.face(simp1,k)\n",
    "                                    underlying = f\n",
    "                                    for l in f.degeneracies():\n",
    "                                        underlying = s.face(underlying, l)\n",
    "                                    new = AbstractSimplex(underlying.dimension()+d-i, degeneracies=f.degeneracies(), underlying = data[(underlying, simp2)])\n",
    "                                    #new.dim() = underlying.dimension()+d-i\n",
    "                                    simp_faces.append(new)                                        \n",
    "                            else:\n",
    "                                if d-i-1==0:\n",
    "                                    simp_faces.append(simp1)\n",
    "                                elif t.face(simp2,k-i-1).is_nondegenerate():\n",
    "                                    simp_faces.append(data[(simp1,t.face(simp2,k-i-1))])\n",
    "                                else:\n",
    "                                    f= t.face(simp2,k-i-1)\n",
    "                                    underlying = f\n",
    "                                    for l in f.degeneracies():\n",
    "                                        underlying = t.face(underlying, l)\n",
    "                                    degeneracies = tuple([m + 1 + i for m in f.degeneracies()])\n",
    "                                    new = AbstractSimplex(i+underlying.dimension()+1, degeneracies=degeneracies, underlying = data[(simp1, underlying)])\n",
    "                                    simp_faces.append(new)\n",
    "                        simplices[simp]=tuple(simp_faces)\n",
    "            elif d-i-1 == -1:\n",
    "                 for simp in t.n_cells(d):\n",
    "                    simplices[simp]=t.faces(simp)\n",
    "    return SimplicialSet(simplices),  data"
   ]
  },
  {
   "cell_type": "markdown",
   "id": "936bad6b",
   "metadata": {},
   "source": [
    "#### A very small example: \n",
    "We define $S^5$ to be the simplicial set with two nondegenerate simplices, where one of these two is a $5$-simplex."
   ]
  },
  {
   "cell_type": "code",
   "execution_count": 84,
   "id": "d91503aa",
   "metadata": {},
   "outputs": [],
   "source": [
    "s5 = simplicial_sets.Sphere(5)"
   ]
  },
  {
   "cell_type": "markdown",
   "id": "590cfeaf",
   "metadata": {},
   "source": [
    "The join $S^5\\star S^5$ should yield $S^{11}$, which has the following reduced homology:"
   ]
  },
  {
   "cell_type": "code",
   "execution_count": 85,
   "id": "8a6ae53f",
   "metadata": {},
   "outputs": [
    {
     "data": {
      "text/plain": [
       "{0: 0, 1: 0, 2: 0, 3: 0, 4: 0, 5: 0, 6: 0, 7: 0, 8: 0, 9: 0, 10: 0, 11: Z}"
      ]
     },
     "execution_count": 85,
     "metadata": {},
     "output_type": "execute_result"
    }
   ],
   "source": [
    "s11 = join(s5,s5)[0]; s11.homology()"
   ]
  },
  {
   "cell_type": "markdown",
   "id": "ab174eb0",
   "metadata": {},
   "source": [
    "### Join of morphisms of simplicial sets"
   ]
  },
  {
   "cell_type": "markdown",
   "id": "00c790e7",
   "metadata": {},
   "source": [
    "For later use we also implement the join of morphisms of simplicial sets."
   ]
  },
  {
   "cell_type": "markdown",
   "id": "f3e71053",
   "metadata": {},
   "source": [
    "The following code needs the simplices of the codomains and the simplices of the domains to be distinct, respectively. this can be achieved by first using copy()."
   ]
  },
  {
   "cell_type": "code",
   "execution_count": 86,
   "id": "748b43c8",
   "metadata": {},
   "outputs": [],
   "source": [
    "def joinMorph(f, g ):\n",
    "    d1 = f.domain()\n",
    "    d2 = g.domain()\n",
    "    c1 = f.codomain()\n",
    "    c2 = g.codomain()\n",
    "    if not (d1.is_finite() and d2.is_finite() and c1.is_finite() and c2.is_finite()):\n",
    "        raise ValueError(\"the given simplicial sets might not be finite\")\n",
    "    if (d1==c1 and d2 == c2): \n",
    "        return joinEndo(f,g)\n",
    "    C,  C_data = join(c1, c2, False)\n",
    "    F = {}\n",
    "    simplices = {}\n",
    "    data = {}\n",
    "    for d in range(len(d1.f_vector())+len(d2.f_vector())+1): #dim of the join\n",
    "        for i in range(-1, d+1):\n",
    "            if i == -1: \n",
    "                for simp in d1.n_cells(d):\n",
    "                    simplices[simp]=d1.faces(simp)\n",
    "                    F[simp]=f(simp)\n",
    "            elif d-i-1 >= 0:\n",
    "                for simp1 in d1.n_cells(i):\n",
    "                    for simp2 in d2.n_cells(d-i-1):\n",
    "                        name = str(simp1) + ' join ' +str(simp2)\n",
    "                        simp = AbstractSimplex(d, name=name)\n",
    "                        data[(simp1, simp2)] = simp \n",
    "                        F[simp]= C_data[(f(simp1), g(simp2))]\n",
    "                        simp_faces = []\n",
    "                        for k in range(d+1):\n",
    "                            if  k <= i: \n",
    "                                if i==0:\n",
    "                                    simp_faces.append(simp2)\n",
    "                                elif d1.face(simp1,k).is_nondegenerate():\n",
    "                                    simp_faces.append(data[(d1.face(simp1,k),simp2)])\n",
    "                                else:\n",
    "                                    f = d1.face(simp1,k)\n",
    "                                    underlying = f\n",
    "                                    for l in f.degeneracies():\n",
    "                                        underlying = d1.face(underlying, l)\n",
    "                                    new = AbstractSimplex(underlying.dimension()+d-i, degeneracies=f.degeneracies(), underlying = data[(underlying, simp2)])\n",
    "                                    #new.dim=underlying.dimension()+d-i\n",
    "                                    simp_faces.append(new)                                        \n",
    "                            else:\n",
    "                                if d-i-1==0:\n",
    "                                    simp_faces.append(simp1)\n",
    "                                elif d2.face(simp2,k-i-1).is_nondegenerate():\n",
    "                                    simp_faces.append(data[(simp1,d2.face(simp2,k-i-1))])\n",
    "                                else:\n",
    "                                    f= d2.face(simp2,k-i-1)\n",
    "                                    underlying = f\n",
    "                                    for l in f.degeneracies():\n",
    "                                        underlying = d2.face(underlying, l)\n",
    "                                    degeneracies = tuple([m + 1 + i for m in f.degeneracies()])\n",
    "                                    new = AbstractSimplex(i+underlying.dimension()+1, degeneracies=degeneracies, underlying = data[(simp1, underlying)])\n",
    "                                    simp_faces.append(new)\n",
    "\n",
    "                        simplices[simp]=tuple(simp_faces)\n",
    "            elif d-i-1 == -1:\n",
    "                 for simp in d2.n_cells(d):\n",
    "                    simplices[simp]=d2.faces(simp)\n",
    "                    F[simp]=g(simp)\n",
    "    return SimplicialSetMorphism(F, SimplicialSet(simplices), C)"
   ]
  },
  {
   "cell_type": "markdown",
   "id": "3ce86ad3",
   "metadata": {},
   "source": [
    "For better performance, we will also implement the join in the case that $d_1=c_1$ and $d_2 =c_2$, separately."
   ]
  },
  {
   "cell_type": "code",
   "execution_count": 87,
   "id": "ac30849a",
   "metadata": {},
   "outputs": [],
   "source": [
    "def joinEndo(f, g):\n",
    "    d1 = f.domain()\n",
    "    d2 = g.domain()\n",
    "    c1 = f.codomain()\n",
    "    c2 = g.codomain()\n",
    "    if not (d1.is_finite() and d2.is_finite() and c1.is_finite() and c2.is_finite()):\n",
    "        raise ValueError(\"the given simplicial sets might not be finite\")\n",
    "    if not (d1==c1 and d2 == c2): \n",
    "        raise ValueError(\"the domains don't equale the codomains\")\n",
    "        \n",
    "    ## first building the simplicial set\n",
    "    simplices = {}\n",
    "    data = {}\n",
    "    F = {} #the morphism\n",
    "    for d in range(len(d1.f_vector())+len(d2.f_vector())+1): #the dimension of the join\n",
    "        for i in range(-1, d+1):\n",
    "            if i == -1: \n",
    "                for simp in d1.n_cells(d):\n",
    "                    simplices[simp]=d1.faces(simp)\n",
    "                    F[simp]=f(simp)\n",
    "            elif d-i-1 >= 0:\n",
    "                for simp1 in d1.n_cells(i):\n",
    "                    for simp2 in d2.n_cells(d-i-1):\n",
    "                        name = str(simp1) + ' join ' +str(simp2)\n",
    "                        simp = AbstractSimplex(d, name=name)\n",
    "                        data[(simp1, simp2)] = simp \n",
    "                        simp_faces = []\n",
    "                        for k in range(d+1):\n",
    "                            if  k <= i: \n",
    "                                if i==0:\n",
    "                                    simp_faces.append(simp2)\n",
    "                                elif d1.face(simp1,k).is_nondegenerate():\n",
    "                                    simp_faces.append(data[(d1.face(simp1,k),simp2)])\n",
    "                                else:\n",
    "                                    f = d1.face(simp1,k)\n",
    "                                    underlying = f\n",
    "                                    for l in f.degeneracies():\n",
    "                                        underlying = d1.face(underlying, l)\n",
    "                                    new = AbstractSimplex(underlying.dimension()+d-i, degeneracies=f.degeneracies(), underlying = data[(underlying, simp2)])\n",
    "                                    simp_faces.append(new)                                        \n",
    "                            else:\n",
    "                                if d-i-1==0:\n",
    "                                    simp_faces.append(simp1)\n",
    "                                elif d2.face(simp2,k-i-1).is_nondegenerate():\n",
    "                                    simp_faces.append(data[(simp1,d2.face(simp2,k-i-1))])\n",
    "                                else:\n",
    "                                    f= d2.face(simp2,k-i-1)\n",
    "                                    underlying = f\n",
    "                                    for l in f.degeneracies():\n",
    "                                        underlying = d2.face(underlying, l)\n",
    "                                    degeneracies = tuple([m + 1 + i for m in f.degeneracies()])\n",
    "                                    new = AbstractSimplex(i+underlying.dimension()+1, degeneracies=degeneracies, underlying = data[(simp1, underlying)])\n",
    "                                    simp_faces.append(new)\n",
    "\n",
    "                        simplices[simp]=tuple(simp_faces)\n",
    "            elif d-i-1 == -1:\n",
    "                 for simp in d2.n_cells(d):\n",
    "                    simplices[simp]=d2.faces(simp)\n",
    "                    F[simp]=g(simp)\n",
    "    #specifiying the morphism\n",
    "        for i in range(0, d):\n",
    "            for simp1 in d1.n_cells(i):\n",
    "                for simp2 in d2.n_cells(d-i-1):\n",
    "                    F[data[(simp1, simp2)]]=data[(f(simp1), g(simp2))]\n",
    "    D = SimplicialSet(simplices)\n",
    "    return SimplicialSetMorphism(F, D, D)"
   ]
  },
  {
   "cell_type": "markdown",
   "id": "f065163b",
   "metadata": {},
   "source": [
    "### Construction of Lens Spaces"
   ]
  },
  {
   "cell_type": "markdown",
   "id": "bff581b4",
   "metadata": {},
   "source": [
    "$Z_p$ acts on $S^1$ by multiplication with $\\zeta^{q_i}$ for $\\zeta$ a $p$-th root of unity and $q_i\\in \\mathbb{Z}$. Choosing $q_1, \\dots, q_n$ and defining $\\rho_i: S^1\\to S^1, \\rho_i(z)= \\zeta^{q_i}\\cdot z$, we obtain an action of $\\mathbb{Z}_p$ on $S^{2n-1}$ generated by $F = \\rho_1 \\star \\dots \\star \\rho_n: S^1 \\star \\dots \\star S^1 \\to S^1 \\star \\dots \\star S^1$, noting that the $n$-fold join of $S^1$ is homeomorphic to $S^{2n-1}$. "
   ]
  },
  {
   "cell_type": "markdown",
   "id": "2ac86943",
   "metadata": {},
   "source": [
    "The following function takes as input a positive integer $p \\in \\mathbb{Z}_{>0}$ and a list of integers $qs=[q_1, \\dots, q_n]$. It returns the map $F: S^{2n-1}\\to S^{2n-1}$ we described above. Further, the function returns the quotient map $q: S^{2n-1}\\to S^{2n-1}/\\mathbb{Z}_p$ to the orbits space of the action of $\\mathbb{Z}_p=\\mathbb{Z}/(p)$ on $S^{2n-1}$ generated by $F$.  The codomain of $q$ is called a lens space and denoted $L(p; q_1,\\dots, q_n)$ if and only if  gcd$(q_i, p)=q$ for all $i=1,\\dots, n$.\n",
    "\n",
    "If $L(p;q_1,\\dots, q_n)$ is a lens space, then $q$ is a universal covering projection.\n"
   ]
  },
  {
   "cell_type": "markdown",
   "id": "9321ea8b",
   "metadata": {},
   "source": [
    "The function takes as input a boolean \"check\". If check is true, the function checks whether the given integers $q_1,\\dots, q_n$ are all coprime to $p$ and whether $p$ is positive. "
   ]
  },
  {
   "cell_type": "code",
   "execution_count": 88,
   "id": "09c30278",
   "metadata": {},
   "outputs": [],
   "source": [
    "def covLens(p,qs, check=True):\n",
    "    if check:\n",
    "        if not p>0:\n",
    "            raise ValueError(\"p is not a positive integer\")\n",
    "        for q in qs:\n",
    "            if not numpy.gcd(p,q) == 1:\n",
    "                raise ValueError(\"the q's are not all coprime to p\")\n",
    "    v={}; e={}; S1s = {}; f={}\n",
    "    for d in range(len(qs)):\n",
    "        v[d] = [AbstractSimplex(0, name = 'v' +str(i)+'^('+str(d)+')') for i in range(p)]\n",
    "        e[d] = [AbstractSimplex(1, name = 'e' +str(i)+'^('+str(d)+')') for i in range(p)]\n",
    "        S1s[d] = SimplicialSet({e[d][i]: (v[d][i], v[d][(i+1)%p]) for i in range(p)}, name = 'S^1_'+str(d))\n",
    "        f[d] = SimplicialSetMorphism({e[d][i]: e[d][(i+qs[d])%p] for i in range(p)}, S1s[d], S1s[d])\n",
    "    F = f[0]\n",
    "    for i in range(len(qs)-1):\n",
    "        F=joinEndo(F, f[i+1])\n",
    "    q = F.coequalizer(SimplicialSetMorphism(domain=F.domain(), codomain = F.codomain(), identity=True))\n",
    "    return F,q"
   ]
  },
  {
   "cell_type": "markdown",
   "id": "2fe02230",
   "metadata": {},
   "source": [
    "#### Some lens spaces\n",
    "\n",
    "$F511: S^3\\to S^3$ will be an automorphism of $S^3$ generating an action of $\\mathbb{Z}/5$. $q511$ will be the coequalizer of the identity $S^3\\to S^3$ and $F511$. $F511$ was constructed in such a way, that $q511$ is the lens space $L(5;1,1)$. The structure map $S^3\\to q511$ of the coequalizer, will be the universal covering projection $S^3\\to L(5;1,1)$."
   ]
  },
  {
   "cell_type": "code",
   "execution_count": 89,
   "id": "55f5d1f2",
   "metadata": {},
   "outputs": [],
   "source": [
    "F511, q511 = covLens(5,[1,1])"
   ]
  },
  {
   "cell_type": "code",
   "execution_count": 96,
   "id": "ae799959",
   "metadata": {},
   "outputs": [
    {
     "data": {
      "text/plain": [
       "{0: 0, 1: 0, 2: 0, 3: Z}"
      ]
     },
     "execution_count": 96,
     "metadata": {},
     "output_type": "execute_result"
    }
   ],
   "source": [
    "F511.domain().homology() #reduced homology of S^3"
   ]
  },
  {
   "cell_type": "code",
   "execution_count": 97,
   "id": "34da2ad8",
   "metadata": {},
   "outputs": [
    {
     "data": {
      "text/plain": [
       "{0: 0, 1: C5, 2: 0, 3: Z}"
      ]
     },
     "execution_count": 97,
     "metadata": {},
     "output_type": "execute_result"
    }
   ],
   "source": [
    "q511.homology() #reduced homoloty of L(5;1,1)"
   ]
  },
  {
   "cell_type": "markdown",
   "id": "1d88e3ff",
   "metadata": {},
   "source": [
    "Sometimes we are only interested in the lens space and not in the group action. So, we define a function that just returns the lens space. \n",
    "\n",
    "The following function takes as input a positive integer $p \\in \\mathbb{Z}_{>0}$, a list of integers $qs=[q_1, \\dots, q_n]$ and\n",
    "a boolean \"check\". If check is true, the function checks whether the given integers $q_1,\\dots, q_n$ are all coprime to $p$ and whether $p$ is positive. \n",
    "\n",
    "The function returns a simplicial set, whose geometric realization is homeomorphic to $L(p; q_1,\\dots, q_n)$."
   ]
  },
  {
   "cell_type": "code",
   "execution_count": 98,
   "id": "541cfdac",
   "metadata": {},
   "outputs": [],
   "source": [
    "def lens(p,qs, check=True):\n",
    "    return SimplicialSet(covLens(p,qs, check)[1])"
   ]
  },
  {
   "cell_type": "markdown",
   "id": "fae83008",
   "metadata": {},
   "source": [
    "Let us compute the reduced homology of $L(4;-1,3)$. Note that C4 denotes the cyclic group with four elements in SageMath."
   ]
  },
  {
   "cell_type": "code",
   "execution_count": 99,
   "id": "733666ef",
   "metadata": {},
   "outputs": [
    {
     "data": {
      "text/plain": [
       "{0: 0, 1: C4, 2: 0, 3: Z}"
      ]
     },
     "execution_count": 99,
     "metadata": {},
     "output_type": "execute_result"
    }
   ],
   "source": [
    "lens(4, [-1,3]).homology() "
   ]
  },
  {
   "cell_type": "markdown",
   "id": "357c7049",
   "metadata": {},
   "source": [
    "Let us construct a $5$-dimensional lens space."
   ]
  },
  {
   "cell_type": "code",
   "execution_count": 100,
   "id": "49191169",
   "metadata": {},
   "outputs": [],
   "source": [
    "L4_135 = lens(4,[1,-1,5]) "
   ]
  },
  {
   "cell_type": "markdown",
   "id": "22cc1c6e",
   "metadata": {},
   "source": [
    "We compute the reduced homology of $L(4; 1,-1,5)$. "
   ]
  },
  {
   "cell_type": "code",
   "execution_count": 101,
   "id": "e835707a",
   "metadata": {},
   "outputs": [
    {
     "data": {
      "text/plain": [
       "{0: 0, 1: C4, 2: 0, 3: C4, 4: 0, 5: Z}"
      ]
     },
     "execution_count": 101,
     "metadata": {},
     "output_type": "execute_result"
    }
   ],
   "source": [
    "L4_135.homology()"
   ]
  },
  {
   "cell_type": "markdown",
   "id": "f462e8b2",
   "metadata": {},
   "source": [
    "Let us compute the normalized chain complex of $S^3$ by giving its matrices with respect to a $\\mathbb{Z}[C5]$-basis' of its chain groups. The basis elements are given by lifts of nondegenerate simplices of $L(5;1,3)$ along the covering projection $S^3\\to L(5;1,3)$. Here $C5$ denotes the cyclic group with five elements."
   ]
  },
  {
   "cell_type": "code",
   "execution_count": 102,
   "id": "3d15843e",
   "metadata": {},
   "outputs": [],
   "source": [
    "C_L513=complexOfUniversalCover(lens(5, [1,3]), True)"
   ]
  },
  {
   "cell_type": "code",
   "execution_count": 103,
   "id": "1bb41d61",
   "metadata": {},
   "outputs": [
    {
     "data": {
      "text/plain": [
       "Algebra of Finitely presented group < e0 | e0^5 > over Integer Ring"
      ]
     },
     "execution_count": 103,
     "metadata": {},
     "output_type": "execute_result"
    }
   ],
   "source": [
    "C_L513[1].base_ring()"
   ]
  },
  {
   "cell_type": "markdown",
   "id": "f0ec086a",
   "metadata": {},
   "source": [
    "We print \"C_L513\" in LaTeX:\n",
    "\n",
    "$$\\left\\{1 : \\; \\left(\\begin{array}{rrrrrrr}\n",
    "-1 + e_{0} & 0 & -1 & -1 & -1 & -1 & -1 \\\\\n",
    "0 & -1 + e_{0}^{2} & 1 & e_{0}^{-2} & e_{0} & e_{0}^{-1} & e_{0}^{2}\n",
    "\\end{array}\\right),\\quad  2 :\\; \\left(\\begin{array}{rrrrrrrrrr}\n",
    "1 & 1 & 1 & 1 & 1 & 0 & 0 & 0 & 0 & 0 \\\\\n",
    "0 & 0 & 0 & 0 & 0 & e_{0}^{-2} & e_{0} & e_{0}^{-1} & e_{0}^{2} & 1 \\\\\n",
    "e_{0} & 0 & 0 & -1 & 0 & -1 & 0 & 0 & 0 & 1 \\\\\n",
    "0 & e_{0} & 0 & 0 & -1 & 1 & -1 & 0 & 0 & 0 \\\\\n",
    "-1 & 0 & e_{0} & 0 & 0 & 0 & 1 & -1 & 0 & 0 \\\\\n",
    "0 & -1 & 0 & e_{0} & 0 & 0 & 0 & 1 & -1 & 0 \\\\\n",
    "0 & 0 & -1 & 0 & e_{0} & 0 & 0 & 0 & 1 & -1\n",
    "\\end{array}\\right), \\quad 3 :\\; \\left(\\begin{array}{rrrrr}\n",
    "1 & 0 & 0 & 0 & -1 \\\\\n",
    "-1 & 1 & 0 & 0 & 0 \\\\\n",
    "0 & -1 & 1 & 0 & 0 \\\\\n",
    "0 & 0 & -1 & 1 & 0 \\\\\n",
    "0 & 0 & 0 & -1 & 1 \\\\\n",
    "e_{0} & 0 & 0 & -1 & 0 \\\\\n",
    "0 & e_{0} & 0 & 0 & -1 \\\\\n",
    "-1 & 0 & e_{0} & 0 & 0 \\\\\n",
    "0 & -1 & 0 & e_{0} & 0 \\\\\n",
    "0 & 0 & -1 & 0 & e_{0}\n",
    "\\end{array}\\right)\\right\\}$$"
   ]
  },
  {
   "cell_type": "markdown",
   "id": "a5ba7c3d",
   "metadata": {},
   "source": [
    "Let us compute the normalized chain complex of $S^5$ by giving its matrices with respect to a $\\mathbb{Z}[C4]$-basis' of its chain groups. The basis elements are given by lifts of nondegenerate simplices of $L(4;1,-1,5)$ along the covering projection $S^5\\to L(4;1,-1,5)$. Here $C4$ denotes the cyclic group with five elements."
   ]
  },
  {
   "cell_type": "code",
   "execution_count": 105,
   "id": "893a968c",
   "metadata": {},
   "outputs": [],
   "source": [
    "C_L4_135=complexOfUniversalCover(L4_135, True)"
   ]
  },
  {
   "cell_type": "code",
   "execution_count": 106,
   "id": "231e461c",
   "metadata": {},
   "outputs": [
    {
     "data": {
      "text/plain": [
       "Algebra of Finitely presented group < e0 | e0^4 > over Integer Ring"
      ]
     },
     "execution_count": 106,
     "metadata": {},
     "output_type": "execute_result"
    }
   ],
   "source": [
    "C_L4_135[1].base_ring()"
   ]
  },
  {
   "cell_type": "markdown",
   "id": "cf418639",
   "metadata": {},
   "source": [
    "# Reidemeister Torsion"
   ]
  },
  {
   "cell_type": "markdown",
   "id": "67a187bd",
   "metadata": {},
   "source": [
    "### Construction of the twist complex"
   ]
  },
  {
   "cell_type": "markdown",
   "id": "72d225da",
   "metadata": {},
   "source": [
    "The following function implements algorithm (8) of the enclosed bachelor thesis but only returns the twist complex not the Reidemeister torsion. \n",
    "\n",
    "The function takes as input a connected, finite simplicial set $X$, as well as, list of edges $gens =[e_1,\\dots, e_m]$ in $X$ such that $\\text{sk}_1(X)\\setminus\\{e_1,\\dots, e_m\\}$ is a spanning tree in the $1$-skeleton of $X$. \n",
    "\n",
    "Secondly, the function takes a list of matrices $\\phi=\\{M_1,\\dots, M_m\\}$, which are all complex square matrices of the same size such that sending $e_i \\mapsto M_i$ induces a group homomorphism $\\pi_1(X)\\to \\text{GL}(n, \\mathbb{C})$. Here we use a presentation of $\\pi_1(X)$ with generators $e_1,\\dots, e_m$ and relations given by the $2$-simplices of $X$. \n",
    "\n",
    "The function takes as input a boolean \"check\", which is by default set True. If \"check\" is set True, then the algorithm checks, whether those conditions above are satisfied.\n",
    "\n",
    "The function returns the chain complex $C(X, \\phi)$ of finite dimensional $\\mathbb{C}$-vector spaces defined in definition 3.15 of the enclosed bachelor thesis by giving the matrices of the boundary operators with respect to the distinguished basis."
   ]
  },
  {
   "cell_type": "code",
   "execution_count": 117,
   "id": "2a32730b",
   "metadata": {},
   "outputs": [],
   "source": [
    "def twistComplex(X, gens, phi, check=True):\n",
    "    \n",
    "    #X: finite connected simplicial set, \n",
    "    #gens: edges not contained in fixed spanning tree of sk_1(X) \n",
    "    #phi: lists of matrices assigned to the gens,\n",
    "    #such that e[i] -> phi[i] gives representation of p_1(X)\n",
    "    #if Check, then we check if phi really is a representation\n",
    "    \n",
    "    if not X.is_finite():\n",
    "        raise ValueError(\"given simplicial set might not be finite\")\n",
    "    f_vec = X.f_vector()\n",
    "    if len(f_vec)<2:\n",
    "        return X.chain_complex() \n",
    "    if not X.is_connected():\n",
    "        raise ValueError(\"given simplicial set is not connected\")\n",
    "    if len(gens)!=len(phi):\n",
    "        raise ValueError(\"len(gens)!=len(phi)\")\n",
    "        \n",
    "    #check if all matrices have the same size:\n",
    "    if len(phi)>0:\n",
    "        n = phi[0].dimensions()[0]\n",
    "    else:\n",
    "        n = 1\n",
    "    for i in range(len(gens)):\n",
    "        if not (n==phi[i].dimensions()[0] and n==phi[i].dimensions()[1]):\n",
    "            raise ValueError('given matrizes are not of the same size')\n",
    "            \n",
    "    #for later extensive  use \n",
    "    I = matrix.identity(n,CDF)\n",
    "    \n",
    "    #next we check whether sk_1(X)-gens is a spanning tree in sk_1(X)\n",
    "    if check: \n",
    "        treeSimplices = {}\n",
    "        for e in [item for item in X.n_cells(1) if item not in gens]:\n",
    "            treeSimplices[e]=(X.face(e,0), X.face(e,1))\n",
    "        for v in X.n_cells(0):\n",
    "            treeSimplices[v]=None\n",
    "        tree = SimplicialSet(treeSimplices)\n",
    "        if not tree.is_connected():\n",
    "            raise ValueError(\"sk_1(X)-gens not spanning subgraph of sk_1(X)\")\n",
    "        if not tree.is_acyclic():\n",
    "            raise ValueError(\"sk_1(X)-gens is not acyclic\")\n",
    "            \n",
    "        #next we check if phi really is a homomorphism,\n",
    "        #so we check wheter the relations in pi_1(X) are satisfied\n",
    "        for f in X.n_cells(2):\n",
    "            z = dict()\n",
    "            for i in range(3):\n",
    "                e = X.face(f,i)\n",
    "                if e.is_degenerate():\n",
    "                    z[i]=matrix.identity(n)\n",
    "                elif e in gens:\n",
    "                    z[i]=phi[gens.index(e)]\n",
    "                else: \n",
    "                    z[i]=matrix.identity(n)\n",
    "            if not numpy.allclose(z[0]*z[1].inverse()*z[2], I):\n",
    "                raise ValueError(\"phi is not a homomorphism\")\n",
    "        \n",
    "    deckTrnsf = {i: [] for i in range(1, len(f_vec))} \n",
    "    twistComplx = {}\n",
    "    for i in range(1, len(f_vec)):\n",
    "        twistComplx[i] = matrix(CDF, f_vec[i-1]*n, f_vec[i]*n)\n",
    "    #we start with 0 matrices and fill their entries later\n",
    "    \n",
    "\n",
    "                                        \n",
    "    for j in range(f_vec[1]):\n",
    "        e = X.n_cells(1)[j]\n",
    "        ind_d0 = X.n_cells(0).index(X.face(e,0))\n",
    "        ind_d1 = X.n_cells(0).index(X.face(e,1))\n",
    "        twistComplx[1][n*ind_d1:n*(ind_d1+1),n*j:n*(j+1)] -= I\n",
    "        if e in gens:\n",
    "            i = gens.index(e)\n",
    "            twistComplx[1][n*ind_d0:n*(ind_d0+1), n*j:n*(j+1)] +=phi[i]\n",
    "            deckTrnsf[1].append(phi[i])\n",
    "        else:\n",
    "            twistComplx[1][n*ind_d0:n*(ind_d0+1),n*j: n*(j+1)] += I\n",
    "            deckTrnsf[1].append(I)\n",
    "    \n",
    "    for k in range(2, len(f_vec)):\n",
    "        for j in range(f_vec[k]):\n",
    "            f = X.n_cells(k)[j]\n",
    "            for m in range(1, k+1):\n",
    "                if X.face(f,m).is_nondegenerate():\n",
    "                    i=X.n_cells(k-1).index(X.face(f,m))\n",
    "                    twistComplx[k][n*i: n*(i+1),n*j:n*(j+1)] += (-1)^m*I\n",
    "            dk = X.face(f,k)\n",
    "            if dk.is_degenerate() and 0 in dk.degeneracies():\n",
    "                if X.face(f,0).is_nondegenerate():\n",
    "                    i= X.n_cells(k-1).index(X.face(f,0))\n",
    "                    twistComplx[k][n*i: n*(i+1),n*j:n*(j+1)] += I\n",
    "                deckTrnsf[k].append(I)\n",
    "            else: \n",
    "                dim_und = dk.nondegenerate().dimension()\n",
    "                ind_und = X.n_cells(dim_und).index(dk.nondegenerate())\n",
    "                phi_g_0 = deckTrnsf[dim_und][ind_und]\n",
    "                if X.face(f,0).is_nondegenerate():\n",
    "                    i = X.n_cells(k-1).index(X.face(f,0))\n",
    "                    twistComplx[k][n*i: n*(i+1),n*j:n*(j+1)] += phi_g_0\n",
    "                deckTrnsf[k].append(phi_g_0)\n",
    "    return twistComplx"
   ]
  },
  {
   "cell_type": "markdown",
   "id": "edaee6ed",
   "metadata": {},
   "source": [
    "### Torsion of bounded, based, finite dimensional $\\mathbb{C}$-vector space chain complexes\n",
    "\n",
    "The following function implements algorithm (7) of the enclosed bachelor thesis. \n",
    "\n",
    "The function has input a dictionary $C$. The keys of that dictionary are integers indexing the nonzero chain groups of a bounded chain complex of finite dimensional $\\mathbb{C}$-vector spaces. The value of the dictionary at $k$ is the matrix $D^{(k)}$ that represents the boundary operator $\\partial_k: C_{k}\\to C_{k-1}$ of that chain complex with respect to some distinguished basis. \n",
    "\n",
    "The matrices need to have coefficients compatible with CDF, the complex double field:"
   ]
  },
  {
   "cell_type": "code",
   "execution_count": 109,
   "id": "58ca530c",
   "metadata": {},
   "outputs": [
    {
     "data": {
      "text/plain": [
       "True"
      ]
     },
     "execution_count": 109,
     "metadata": {},
     "output_type": "execute_result"
    }
   ],
   "source": [
    "ComplexDoubleField() is CDF"
   ]
  },
  {
   "cell_type": "markdown",
   "id": "3d3aeff6",
   "metadata": {},
   "source": [
    "The function returns the torsion of the chain complex, based with the distinguished basis, as a complex number $\\mathbb{C}$. The function returns $0\\in \\mathbb{Z}$ if and only if $C$ is not exact.\n",
    "\n",
    "The function does not check, whether $C$ is a complex."
   ]
  },
  {
   "cell_type": "code",
   "execution_count": 111,
   "id": "e0c6e4ec",
   "metadata": {},
   "outputs": [],
   "source": [
    "def torsion_complex(C): \n",
    "    #C a dictionary with keys a bounded interval of ZZ \n",
    "    #the values of C are matrices such that C[k]C[k+1]=0\n",
    "    t = 1 #the torsion is initially set to 1\n",
    "    d= max(C) #the upper bound of the complex C\n",
    "    low_bound=min(C)-1 #lower bound of the complex C\n",
    "    \n",
    "    r = {d: 0, d-1: C[d].dimensions()[1]}  \n",
    "    #if C is exact, then r[k-1]=rank(C[k]) for all k\n",
    "    \n",
    "    K =matrix.identity(r[d-1], CDF)\n",
    "    for k in range(d, low_bound,-1):\n",
    "        if r[k-1]>C[k].dimensions()[0]: \n",
    "            return 0\n",
    "        r[k-2]=C[k].dimensions()[0]-r[k-1]\n",
    "        if r[k-1]==0: \n",
    "            K=matrix.identity(r[k-2], CDF)\n",
    "            continue\n",
    "        U,S,V=C[k].SVD()\n",
    "        \n",
    "        #check if the r[k-1]'th singular value of C[k] is 0\n",
    "        if numpy.isclose(0, S[r[k-1]-1,r[k-1]-1]):\n",
    "            return 0\n",
    "        detW=(V.conjugate_transpose()*K).submatrix(0,0,r[k-1],r[k-1]).det()\n",
    "        t=t*(U.det()*prod(S[j,j] for j in range(r[k-1]))*detW)^((-1)^k)\n",
    "        K=U.submatrix(0, r[k-1], C[k].dimensions()[0], r[k-2])\n",
    "        \n",
    "    #check whether we are exact at C[low_bound]    \n",
    "    if r[low_bound-1]==0:    \n",
    "        return t\n",
    "    else: \n",
    "        return 0"
   ]
  },
  {
   "cell_type": "markdown",
   "id": "2a0bc168",
   "metadata": {},
   "source": [
    "### Examples of Reidemeister torsions for group presentations provided by the user"
   ]
  },
  {
   "cell_type": "markdown",
   "id": "ab1a937f",
   "metadata": {},
   "source": [
    "#### Example 1: The lens space $L(5; 1,1)$."
   ]
  },
  {
   "cell_type": "markdown",
   "id": "bac3f880",
   "metadata": {},
   "source": [
    "We start by computing the torsion of a 3-dimensional lens space."
   ]
  },
  {
   "cell_type": "code",
   "execution_count": 112,
   "id": "0464809e",
   "metadata": {},
   "outputs": [],
   "source": [
    "L511=lens(5,[1,1])"
   ]
  },
  {
   "cell_type": "code",
   "execution_count": 113,
   "id": "36013ad4",
   "metadata": {},
   "outputs": [
    {
     "data": {
      "text/plain": [
       "Generic morphism:\n",
       "  From: Finitely presented group < e0, e1, e2, e3, e4, e5 | e4^-1*e0, e1*e0, e2*e1^-1*e0, e3*e2^-1*e0, e4*e3^-1*e0, e5*e1, e5*e1^-1*e2, e5*e2^-1*e3, e5*e3^-1*e4, e5*e4^-1 >\n",
       "  To:   Finitely presented group < e0 | e0^5 >\n",
       "  Defn: e0 |--> e0\n",
       "        e1 |--> e0^-1\n",
       "        e2 |--> e0^-2\n",
       "        e3 |--> e0^2\n",
       "        e4 |--> e0\n",
       "        e5 |--> e0"
      ]
     },
     "execution_count": 113,
     "metadata": {},
     "output_type": "execute_result"
    }
   ],
   "source": [
    "G, gens =fundamental_group_w_gens(L511); G.simplification_isomorphism()"
   ]
  },
  {
   "cell_type": "code",
   "execution_count": 114,
   "id": "c5c679ac",
   "metadata": {},
   "outputs": [],
   "source": [
    "W = Matrix(CDF,[numpy.exp(2*numpy.pi*I/5)])"
   ]
  },
  {
   "cell_type": "markdown",
   "id": "68c37aff",
   "metadata": {},
   "source": [
    "We construct $\\phi$ to be the presentation of $\\pi_1(L(5;1,1))$ that send $e_0$ to $W$. "
   ]
  },
  {
   "cell_type": "code",
   "execution_count": 115,
   "id": "db2a11a4",
   "metadata": {},
   "outputs": [],
   "source": [
    "phi = [W, W^(-1), W^(-2), W^2, W, W]"
   ]
  },
  {
   "cell_type": "code",
   "execution_count": 118,
   "id": "e4e3c481",
   "metadata": {},
   "outputs": [],
   "source": [
    "C= twistComplex(L511, gens ,phi, True)"
   ]
  },
  {
   "cell_type": "markdown",
   "id": "32a3fe24",
   "metadata": {},
   "source": [
    "We check, whether $C$ is a chain complex."
   ]
  },
  {
   "cell_type": "code",
   "execution_count": 119,
   "id": "3a89c0bc",
   "metadata": {},
   "outputs": [
    {
     "data": {
      "text/plain": [
       "[True, True]"
      ]
     },
     "execution_count": 119,
     "metadata": {},
     "output_type": "execute_result"
    }
   ],
   "source": [
    "is_C_a_chain_complex=[]\n",
    "for i in range(1, L511.dimension()):\n",
    "    is_C_a_chain_complex.append(numpy.allclose(C[i]*C[i+1],0))\n",
    "is_C_a_chain_complex"
   ]
  },
  {
   "cell_type": "markdown",
   "id": "a2fbcd39",
   "metadata": {},
   "source": [
    "Now let us compute the torsion of $C$:"
   ]
  },
  {
   "cell_type": "code",
   "execution_count": 120,
   "id": "12e56671",
   "metadata": {},
   "outputs": [
    {
     "data": {
      "text/plain": [
       "0.22360679774997927 - 0.6881909602355871*I"
      ]
     },
     "execution_count": 120,
     "metadata": {},
     "output_type": "execute_result"
    }
   ],
   "source": [
    "torsion_complex(C)"
   ]
  },
  {
   "cell_type": "markdown",
   "id": "2ea960f1",
   "metadata": {},
   "source": [
    "Let us compare the computed number, with the theoretical result given in theorem 10.6 in turaev's introduction to topological torsion:"
   ]
  },
  {
   "cell_type": "code",
   "execution_count": 121,
   "id": "82b180d1",
   "metadata": {},
   "outputs": [
    {
     "data": {
      "text/plain": [
       "(0.22360679774997905-0.688190960235587j)"
      ]
     },
     "execution_count": 121,
     "metadata": {},
     "output_type": "execute_result"
    }
   ],
   "source": [
    "z=numpy.exp(2*numpy.pi*I/5); tors_turaev=-(z-1)^(-1)*(z-1)^(-1); tors_turaev"
   ]
  },
  {
   "cell_type": "markdown",
   "id": "dc4ac408",
   "metadata": {},
   "source": [
    "In other words, we computed the correct result, up to the $16^\\text{th}$ digit, which is as close we can get using double precision floats."
   ]
  },
  {
   "cell_type": "code",
   "execution_count": 122,
   "id": "9fed3914",
   "metadata": {},
   "outputs": [
    {
     "data": {
      "text/plain": [
       "(-2.220446049250313e-16+1.1102230246251565e-16j)"
      ]
     },
     "execution_count": 122,
     "metadata": {},
     "output_type": "execute_result"
    }
   ],
   "source": [
    "tors_turaev-torsion_complex(C)"
   ]
  },
  {
   "cell_type": "markdown",
   "id": "d7d100f0",
   "metadata": {},
   "source": [
    "#### Example 2: The lens space L(4;1,3,1)"
   ]
  },
  {
   "cell_type": "code",
   "execution_count": 123,
   "id": "ca5d9420",
   "metadata": {},
   "outputs": [],
   "source": [
    "L4131=lens(4, [1,3,1]) "
   ]
  },
  {
   "cell_type": "code",
   "execution_count": 124,
   "id": "8bf0fe2a",
   "metadata": {},
   "outputs": [
    {
     "data": {
      "text/plain": [
       "Generic morphism:\n",
       "  From: Finitely presented group < e0, e1, e2, e3, e4, e5, e6, e7, e8, e9, e10, e11, e12 | e1*e2^-1*e0, e7^-1*e0, e2*e3^-1*e0, e5*e0, e3*e4^-1*e0, e6*e5^-1*e0, e4*e1^-1*e0, e7*e6^-1*e0, e9^-1*e8, e9*e10^-1*e8, e10*e11^-1*e8, e11*e8, e8*e1^-1*e2, e12*e5, e8*e2^-1*e3, e12*e5^-1*e6, e8*e3^-1*e4, e12*e6^-1*e7, e8*e4^-1*e1, e12*e7^-1, e1, e9*e5^-1*e1, e10*e6^-1*e1, e11*e7^-1*e1, e9*e2, e10*e5^-1*e2, e11*e6^-1*e2, e7^-1*e2, e10*e3, e11*e5^-1*e3, e6^-1*e3, e9*e7^-1*e3, e11*e4, e5^-1*e4, e9*e6^-1*e4, e10*e7^-1*e4, e12*e9, e12*e9^-1*e10, e12*e10^-1*e11, e12*e11^-1 >\n",
       "  To:   Finitely presented group < e0 | e0^4 >\n",
       "  Defn: e0 |--> e0\n",
       "        e1 |--> 1\n",
       "        e2 |--> e0\n",
       "        e3 |--> e0^-2\n",
       "        e4 |--> e0^-1\n",
       "        e5 |--> e0^-1\n",
       "        e6 |--> e0^-2\n",
       "        e7 |--> e0\n",
       "        e8 |--> e0^-1\n",
       "        e9 |--> e0^-1\n",
       "        e10 |--> e0^-2\n",
       "        e11 |--> e0\n",
       "        e12 |--> e0"
      ]
     },
     "execution_count": 124,
     "metadata": {},
     "output_type": "execute_result"
    }
   ],
   "source": [
    "G, gens=fundamental_group_w_gens(L4131); G.simplification_isomorphism()"
   ]
  },
  {
   "cell_type": "code",
   "execution_count": 125,
   "id": "cf44415a",
   "metadata": {},
   "outputs": [],
   "source": [
    "w = Matrix(CDF,[numpy.exp(2*numpy.pi*I/4)])"
   ]
  },
  {
   "cell_type": "markdown",
   "id": "e41407f6",
   "metadata": {},
   "source": [
    "We construct a presentation $\\phi$ of $\\pi_1(L(4;1,3,1))$ sending $e_0$ to $w$. "
   ]
  },
  {
   "cell_type": "code",
   "execution_count": 126,
   "id": "ddd36b06",
   "metadata": {},
   "outputs": [],
   "source": [
    "phi = [w,w^0,w,w^(-2),w^(-1),w^(-1),w^(-2),w,w^(-1),w^(-1),w^(-2),w,w ]"
   ]
  },
  {
   "cell_type": "code",
   "execution_count": 127,
   "id": "823e18d5",
   "metadata": {},
   "outputs": [],
   "source": [
    "Cw= twistComplex(L4131, gens ,phi, True)"
   ]
  },
  {
   "cell_type": "markdown",
   "id": "b921ee38",
   "metadata": {},
   "source": [
    "Again we check if the algorithm worked and we constructed a chain complex."
   ]
  },
  {
   "cell_type": "code",
   "execution_count": 128,
   "id": "b8fac0c1",
   "metadata": {},
   "outputs": [
    {
     "data": {
      "text/plain": [
       "[True, True, True, True]"
      ]
     },
     "execution_count": 128,
     "metadata": {},
     "output_type": "execute_result"
    }
   ],
   "source": [
    "is_Cw_a_chain_complex=[]\n",
    "for i in range(1, L4131.dimension()):\n",
    "    is_Cw_a_chain_complex.append(numpy.allclose(Cw[i]*Cw[i+1],0))\n",
    "is_Cw_a_chain_complex"
   ]
  },
  {
   "cell_type": "markdown",
   "id": "f9370aca",
   "metadata": {},
   "source": [
    "Let us compute the torsion of this chain complex with respect to the distinguished (standard) basis."
   ]
  },
  {
   "cell_type": "code",
   "execution_count": 129,
   "id": "976abd4b",
   "metadata": {},
   "outputs": [
    {
     "data": {
      "text/plain": [
       "-0.24999999999999933 - 0.24999999999999967*I"
      ]
     },
     "execution_count": 129,
     "metadata": {},
     "output_type": "execute_result"
    }
   ],
   "source": [
    "torsion_complex(Cw)"
   ]
  },
  {
   "cell_type": "markdown",
   "id": "56c42e82",
   "metadata": {},
   "source": [
    "If we compare the computed result with the theoretical result computed in Turaev's book on topological torsion we obtain, we see that we again computed the correct result up to machine precision."
   ]
  },
  {
   "cell_type": "code",
   "execution_count": 130,
   "id": "2162e323",
   "metadata": {},
   "outputs": [
    {
     "data": {
      "text/plain": [
       "[-0.24999999999999994 - 0.2500000000000001*I]"
      ]
     },
     "execution_count": 130,
     "metadata": {},
     "output_type": "execute_result"
    }
   ],
   "source": [
    "theoretical_result = -(1-w)^(-1)*(1-w^3)^(-1)*(1-w)^(-1); theoretical_result"
   ]
  },
  {
   "cell_type": "code",
   "execution_count": 131,
   "id": "23509221",
   "metadata": {},
   "outputs": [
    {
     "data": {
      "text/plain": [
       "[6.106226635438361e-16 + 4.440892098500626e-16*I]"
      ]
     },
     "execution_count": 131,
     "metadata": {},
     "output_type": "execute_result"
    }
   ],
   "source": [
    "matrix(CDF, [torsion_complex(Cw)])-theoretical_result"
   ]
  },
  {
   "cell_type": "markdown",
   "id": "b657f109",
   "metadata": {},
   "source": [
    "#### Example 3:  A 2-dimensional presentation of $\\pi_1(L(5;1,1))$"
   ]
  },
  {
   "cell_type": "code",
   "execution_count": 132,
   "id": "7703a13c",
   "metadata": {},
   "outputs": [],
   "source": [
    "L511=lens(5,[1,1])"
   ]
  },
  {
   "cell_type": "code",
   "execution_count": 133,
   "id": "021e1885",
   "metadata": {},
   "outputs": [
    {
     "data": {
      "text/plain": [
       "Generic morphism:\n",
       "  From: Finitely presented group < e0, e1, e2, e3, e4, e5 | e4^-1*e0, e1*e0, e2*e1^-1*e0, e3*e2^-1*e0, e4*e3^-1*e0, e5*e1, e5*e1^-1*e2, e5*e2^-1*e3, e5*e3^-1*e4, e5*e4^-1 >\n",
       "  To:   Finitely presented group < e0 | e0^5 >\n",
       "  Defn: e0 |--> e0\n",
       "        e1 |--> e0^-1\n",
       "        e2 |--> e0^-2\n",
       "        e3 |--> e0^2\n",
       "        e4 |--> e0\n",
       "        e5 |--> e0"
      ]
     },
     "execution_count": 133,
     "metadata": {},
     "output_type": "execute_result"
    }
   ],
   "source": [
    "G, gens =fundamental_group_w_gens(L511); G.simplification_isomorphism()"
   ]
  },
  {
   "cell_type": "code",
   "execution_count": 134,
   "id": "2fe6c793",
   "metadata": {},
   "outputs": [],
   "source": [
    "W = Matrix(CDF,[[numpy.exp(2*numpy.pi*I/5), 0], [0,numpy.exp(-2*numpy.pi*I/5)]])"
   ]
  },
  {
   "cell_type": "markdown",
   "id": "eb80701a",
   "metadata": {},
   "source": [
    "We construct $\\phi$ to be the presentation of $\\pi_1(L(5;1,1))$ that send $e_0$ to the two dimensional matrix $W$. "
   ]
  },
  {
   "cell_type": "code",
   "execution_count": 135,
   "id": "c2ad0455",
   "metadata": {},
   "outputs": [],
   "source": [
    "phi = [W, W^(-1), W^(-2), W^2, W, W]"
   ]
  },
  {
   "cell_type": "code",
   "execution_count": 136,
   "id": "16feb72d",
   "metadata": {},
   "outputs": [],
   "source": [
    "CW2= twistComplex(L511, gens, phi, True)"
   ]
  },
  {
   "cell_type": "markdown",
   "id": "98c5cc18",
   "metadata": {},
   "source": [
    "We check again, that twistComplex indeed gives a chain comlex, even though we know this by the theory."
   ]
  },
  {
   "cell_type": "code",
   "execution_count": 137,
   "id": "943e4a75",
   "metadata": {},
   "outputs": [
    {
     "data": {
      "text/plain": [
       "[True, True]"
      ]
     },
     "execution_count": 137,
     "metadata": {},
     "output_type": "execute_result"
    }
   ],
   "source": [
    "is_CW2_a_chain_complex=[]\n",
    "for i in range(1, L511.dimension()):\n",
    "    is_CW2_a_chain_complex.append(numpy.allclose(CW2[i]*CW2[i+1],0))\n",
    "is_CW2_a_chain_complex"
   ]
  },
  {
   "cell_type": "markdown",
   "id": "b95928f2",
   "metadata": {},
   "source": [
    "Let us compute the torsion of this chain complex, which is an element of $\\mathbb{C}^*/\\pm$, because $W$ has determinant $1$."
   ]
  },
  {
   "cell_type": "code",
   "execution_count": 138,
   "id": "cd3aeb21",
   "metadata": {},
   "outputs": [
    {
     "data": {
      "text/plain": [
       "0.5236067977499784 + 5.551115123125783e-17*I"
      ]
     },
     "execution_count": 138,
     "metadata": {},
     "output_type": "execute_result"
    }
   ],
   "source": [
    "torsion_complex(CW2)"
   ]
  },
  {
   "cell_type": "markdown",
   "id": "ca8ed0ce",
   "metadata": {},
   "source": [
    "We compare this result with lemma 3.24 of the enclosed bachelor thesis."
   ]
  },
  {
   "cell_type": "code",
   "execution_count": 139,
   "id": "04748a02",
   "metadata": {},
   "outputs": [],
   "source": [
    "z3=numpy.exp(2*numpy.pi*I/5); "
   ]
  },
  {
   "cell_type": "code",
   "execution_count": 140,
   "id": "b3b9b62b",
   "metadata": {},
   "outputs": [],
   "source": [
    "t_L_1 = (z3-1)^(-1)*(z3-1)^(-1); t_L_2 = (z3^(-1)-1)^(-1)*(z3^(-1)-1)^(-1)"
   ]
  },
  {
   "cell_type": "code",
   "execution_count": 141,
   "id": "d8cbd9b2",
   "metadata": {},
   "outputs": [
    {
     "data": {
      "text/plain": [
       "-6.661338147750939e-16 + 1.1102230246251565e-16*I"
      ]
     },
     "execution_count": 141,
     "metadata": {},
     "output_type": "execute_result"
    }
   ],
   "source": [
    "torsion_complex(CW2)-(t_L_1)*(t_L_2)"
   ]
  },
  {
   "cell_type": "markdown",
   "id": "9d03b1eb",
   "metadata": {},
   "source": [
    "The number above is zero, up to machine precision. "
   ]
  },
  {
   "cell_type": "markdown",
   "id": "842a25d4",
   "metadata": {},
   "source": [
    "#### Example 3:  Some Reidemeister torsions of  $\\pi_1(L(5;2,3))$"
   ]
  },
  {
   "cell_type": "code",
   "execution_count": 142,
   "id": "3a29ff33",
   "metadata": {},
   "outputs": [],
   "source": [
    "L523=lens(5,[2,3])"
   ]
  },
  {
   "cell_type": "code",
   "execution_count": 143,
   "id": "78378902",
   "metadata": {},
   "outputs": [],
   "source": [
    "G, gens = fundamental_group_w_gens(L523)"
   ]
  },
  {
   "cell_type": "code",
   "execution_count": 144,
   "id": "0fcb3273",
   "metadata": {},
   "outputs": [
    {
     "data": {
      "text/plain": [
       "Generic morphism:\n",
       "  From: Finitely presented group < e0, e1, e2, e3, e4, e5 | e1^-1*e0, e1*e2^-1*e0, e2*e3^-1*e0, e3*e4^-1*e0, e4*e0, e5*e1, e5*e1^-1*e2, e5*e2^-1*e3, e5*e3^-1*e4, e5*e4^-1 >\n",
       "  To:   Finitely presented group < e0 | e0^5 >\n",
       "  Defn: e0 |--> e0\n",
       "        e1 |--> e0\n",
       "        e2 |--> e0^2\n",
       "        e3 |--> e0^-2\n",
       "        e4 |--> e0^-1\n",
       "        e5 |--> e0^-1"
      ]
     },
     "execution_count": 144,
     "metadata": {},
     "output_type": "execute_result"
    }
   ],
   "source": [
    "G.simplification_isomorphism()"
   ]
  },
  {
   "cell_type": "code",
   "execution_count": 145,
   "id": "4047bad6",
   "metadata": {},
   "outputs": [],
   "source": [
    "zeta_5 = numpy.exp(2*4*numpy.pi*I/5)"
   ]
  },
  {
   "cell_type": "code",
   "execution_count": 146,
   "id": "3f24f900",
   "metadata": {},
   "outputs": [],
   "source": [
    "W = Matrix(CDF,[[zeta_5, 0], [0,zeta_5^(-1)]])"
   ]
  },
  {
   "cell_type": "code",
   "execution_count": 147,
   "id": "074c152d",
   "metadata": {},
   "outputs": [],
   "source": [
    "C523= twistComplex(L523, gens ,[W, W, W^(2), W^(-2), W^(-1), W^(-1)], True)"
   ]
  },
  {
   "cell_type": "code",
   "execution_count": 148,
   "id": "1734ad3a",
   "metadata": {},
   "outputs": [
    {
     "data": {
      "text/plain": [
       "0.5236067977499772 - 4.787836793695988e-16*I"
      ]
     },
     "execution_count": 148,
     "metadata": {},
     "output_type": "execute_result"
    }
   ],
   "source": [
    "torsion_complex(C523)"
   ]
  },
  {
   "cell_type": "code",
   "execution_count": 149,
   "id": "01dd4f2d",
   "metadata": {},
   "outputs": [],
   "source": [
    "w = Matrix(CDF,[zeta_5]); z = Matrix(CDF,[zeta_5^(-1)])"
   ]
  },
  {
   "cell_type": "code",
   "execution_count": 150,
   "id": "8f14edc1",
   "metadata": {},
   "outputs": [],
   "source": [
    "C523w= twistComplex(L523, gens ,[w, w, w^(2), w^(-2), w^(-1), w^(-1)], True)\n",
    "C523z= twistComplex(L523, gens ,[z, z, z^(2), z^(-2), z^(-1), z^(-1)], True)"
   ]
  },
  {
   "cell_type": "code",
   "execution_count": 151,
   "id": "0e147da3",
   "metadata": {},
   "outputs": [
    {
     "data": {
      "text/plain": [
       "(-0.7236067977499787 - 8.326672684688674e-16*I,\n",
       " -0.7236067977499787 + 8.326672684688674e-16*I)"
      ]
     },
     "execution_count": 151,
     "metadata": {},
     "output_type": "execute_result"
    }
   ],
   "source": [
    "torsion_complex(C523w), torsion_complex(C523z)"
   ]
  },
  {
   "cell_type": "markdown",
   "id": "25d405d5",
   "metadata": {},
   "source": [
    "Again we compare this with the theoretical result and lemma 3.24."
   ]
  },
  {
   "cell_type": "code",
   "execution_count": 152,
   "id": "382dcd34",
   "metadata": {},
   "outputs": [
    {
     "data": {
      "text/plain": [
       "[-0.7236067977499788]"
      ]
     },
     "execution_count": 152,
     "metadata": {},
     "output_type": "execute_result"
    }
   ],
   "source": [
    "-(w-1)^(-1)*(w^(-1)-1)^(-1)"
   ]
  },
  {
   "cell_type": "code",
   "execution_count": 153,
   "id": "75220d4d",
   "metadata": {},
   "outputs": [
    {
     "data": {
      "text/plain": [
       "[0.5236067977499788]"
      ]
     },
     "execution_count": 153,
     "metadata": {},
     "output_type": "execute_result"
    }
   ],
   "source": [
    "((w-1)^(-1)*(w^(-1)-1)^(-1))^2"
   ]
  },
  {
   "cell_type": "markdown",
   "id": "455c27db",
   "metadata": {},
   "source": [
    "### Function for Reidemeister torsions with respect to all irreducible representations"
   ]
  },
  {
   "cell_type": "markdown",
   "id": "4dc8b7ca",
   "metadata": {},
   "source": [
    "The following function has input a finite connected simplicial set $X$ with finite fundamental group $G$. \n",
    "\n",
    "The function returns a list of complex numbers. \n",
    "\n",
    "The entries of the list are in bijection to the irreducible complex representations of $G$. For every irreducible representation $\\phi$ of $G$ the corresponding entry in the list is the Reidemeister torsion of $X$ with resepct to $\\phi$, i.e. \n",
    "\n",
    "$$\\text{all_r_torsions}(X)=[\\tau(X,\\phi) \\text{ for }\\phi \\text{ irrep of } G].$$ \n",
    "\n",
    "The algorithm has, additionally to $X$, input a boolean called \"simplification\". If \"simplficiation\" is set True, then we first simplify a computed presentation of $G$ and then use GAP to compute irreducible representations. If \"simplification\" is set False, then GAP is immediately asked to compute irreducible representatins. Setting simplification to be True can have the advantage of better performance."
   ]
  },
  {
   "cell_type": "code",
   "execution_count": 154,
   "id": "35f650ca",
   "metadata": {},
   "outputs": [],
   "source": [
    "def all_r_torsions(X, simplification = True):\n",
    "    \n",
    "    G, gens = fundamental_group_w_gens(X)\n",
    "    if not X.is_finite():\n",
    "        raise ValueError(\"the given simplicial set might not be finite\")\n",
    "    if not G.is_finite():\n",
    "        raise ValueError(\"fundamental group of X might be infinite\")\n",
    "        \n",
    "    if not simplification:\n",
    "        all_irreps = G.gap().IrreducibleRepresentations()\n",
    "        n_irr = len(all_irreps)\n",
    "        # we build a dictionary of all the irreducible representations\n",
    "        phi_dict = {}\n",
    "        for i in range(n_irr):\n",
    "            phi_dict[i]=[]\n",
    "            for j in range(len(gens)):\n",
    "                phi_j = all_irreps[i].Image(G.gen(j))\n",
    "                phi_dict[i].append(Matrix(CDF, phi_j.sage()))\n",
    "                \n",
    "    if simplification:\n",
    "        h = G.simplification_isomorphism()\n",
    "        G_simp = h.codomain()\n",
    "        len_gens_si = len(G_simp.gens())\n",
    "        if len_gens_si==0:\n",
    "            return [0]\n",
    "        irreps_G_simp = G_simp.gap().IrreducibleRepresentations()\n",
    "        n_irr = len(irreps_G_simp)\n",
    "        # we build a dictionary of all the irreducible representations\n",
    "        phi_dict = {i: [] for i in range(n_irr)}\n",
    "        for i in range(n_irr):\n",
    "            irrep = [] #the i'th irrep\n",
    "            for j in range(len_gens_si):\n",
    "                phi_j = irreps_G_simp[i].Image(G_simp.gen(j))\n",
    "                irrep.append(Matrix(CDF, phi_j.sage()))\n",
    "            n= irrep[0].dimensions()[0]\n",
    "            for j in range(len(gens)):\n",
    "                e_titz = h(G.gen(j)).Tietze()\n",
    "                rep_e = matrix.identity(n, CDF)\n",
    "                for m in range(len(e_titz)):\n",
    "                    rep_e = rep_e*irrep[abs(e_titz[m])-1]^(sgn(e_titz[m]))\n",
    "                phi_dict[i].append(rep_e)\n",
    "                \n",
    "    t_list = [] #the list of torsions w.r.t every irrep\n",
    "    \n",
    "    #first we fill the list with the twist complexes\n",
    "    for i in range(n_irr):\n",
    "        t_list.append(twistComplex(X, gens, phi_dict[i], False))\n",
    "        \n",
    "    #then we compute the torsions of these complexes \n",
    "    for i in range(n_irr):\n",
    "        t_list[i]=torsion_complex(t_list[i])\n",
    "        \n",
    "        \n",
    "    return t_list"
   ]
  },
  {
   "cell_type": "markdown",
   "id": "a849fa9b",
   "metadata": {},
   "source": [
    "#### Reidemeister torsions of lens spaces"
   ]
  },
  {
   "cell_type": "markdown",
   "id": "3d796ed1",
   "metadata": {},
   "source": [
    "We compute the Reidemeister torsions of a bunch of lens spaces and compare with the theoretical result. The theoretical result can, for example, be found in Turaev's Introduction to Topological Torsion. "
   ]
  },
  {
   "cell_type": "code",
   "execution_count": 155,
   "id": "c51d678f",
   "metadata": {},
   "outputs": [
    {
     "data": {
      "text/plain": [
       "[0,\n",
       " 0.22360679774997927 - 0.6881909602355871*I,\n",
       " -0.22360679774997883 - 0.16245984811645317*I,\n",
       " -0.2236067977499793 + 0.16245984811645342*I,\n",
       " 0.22360679774997924 + 0.6881909602355878*I]"
      ]
     },
     "execution_count": 155,
     "metadata": {},
     "output_type": "execute_result"
    }
   ],
   "source": [
    "all_r_torsions(lens(5,[1,1]))"
   ]
  },
  {
   "cell_type": "code",
   "execution_count": 156,
   "id": "9f48cb3d",
   "metadata": {},
   "outputs": [
    {
     "data": {
      "text/plain": [
       "(-0.22360679774997905+0.688190960235587j)"
      ]
     },
     "execution_count": 156,
     "metadata": {},
     "output_type": "execute_result"
    }
   ],
   "source": [
    "zeta = numpy.exp(2*numpy.pi*I/5); (zeta-1)^(-1)*(zeta-1)^(-1)"
   ]
  },
  {
   "cell_type": "code",
   "execution_count": 157,
   "id": "a998259a",
   "metadata": {},
   "outputs": [
    {
     "data": {
      "text/plain": [
       "[0,\n",
       " -0.1381966011250111 - 0.4253254041760213*I,\n",
       " -0.36180339887498825 + 0.262865556059566*I,\n",
       " -0.36180339887499047 - 0.2628655560595675*I,\n",
       " -0.13819660112501148 + 0.42532540417602194*I]"
      ]
     },
     "execution_count": 157,
     "metadata": {},
     "output_type": "execute_result"
    }
   ],
   "source": [
    "all_r_torsions(lens(5,[1,2]))"
   ]
  },
  {
   "cell_type": "code",
   "execution_count": 159,
   "id": "7abc5593",
   "metadata": {},
   "outputs": [
    {
     "data": {
      "text/plain": [
       "(-0.3618033988749896-0.26286555605956685j)"
      ]
     },
     "execution_count": 159,
     "metadata": {},
     "output_type": "execute_result"
    }
   ],
   "source": [
    "-(zeta-1)^(-1)*(zeta^3-1)^(-1)"
   ]
  },
  {
   "cell_type": "code",
   "execution_count": 160,
   "id": "83cf8baa",
   "metadata": {},
   "outputs": [
    {
     "data": {
      "text/plain": [
       "[0,\n",
       " -0.36180339887498736 + 0.262865556059565*I,\n",
       " -0.13819660112501142 + 0.42532540417602216*I,\n",
       " -0.1381966011250101 - 0.4253254041760185*I,\n",
       " -0.3618033988749911 - 0.26286555605956785*I]"
      ]
     },
     "execution_count": 160,
     "metadata": {},
     "output_type": "execute_result"
    }
   ],
   "source": [
    "all_r_torsions(lens(5,[1,2]), simplification=False)"
   ]
  },
  {
   "cell_type": "code",
   "execution_count": 161,
   "id": "8b77a2b4",
   "metadata": {},
   "outputs": [
    {
     "data": {
      "text/plain": [
       "[0,\n",
       " 0.827985277605681 + 1.0382606982861646*I,\n",
       " -0.09100904850610321 + 0.39873669444120063*I,\n",
       " -0.23697622909957736 + 0.11412173719507447*I,\n",
       " -0.23697622909957808 - 0.1141217371950752*I,\n",
       " -0.09100904850610339 - 0.3987366944412012*I,\n",
       " 0.8279852776056815 - 1.0382606982861664*I]"
      ]
     },
     "execution_count": 161,
     "metadata": {},
     "output_type": "execute_result"
    }
   ],
   "source": [
    "all_r_torsions(lens(7,[1,1]))"
   ]
  },
  {
   "cell_type": "code",
   "execution_count": 162,
   "id": "81a2a82b",
   "metadata": {},
   "outputs": [
    {
     "data": {
      "text/plain": [
       "(0.8279852776056821-1.0382606982861684j)"
      ]
     },
     "execution_count": 162,
     "metadata": {},
     "output_type": "execute_result"
    }
   ],
   "source": [
    "-(1-numpy.exp(2*numpy.pi*I/7))^(-2)"
   ]
  },
  {
   "cell_type": "code",
   "execution_count": 163,
   "id": "093d3a9d",
   "metadata": {},
   "outputs": [
    {
     "data": {
      "text/plain": [
       "[0,\n",
       " 0.16399263880283999 + 0.7184986963636819*I,\n",
       " -0.2955045242530504 + 0.14230747862306287*I,\n",
       " -0.36848811454978864 - 0.4620694805455461*I,\n",
       " -0.3684881145497897 + 0.4620694805455484*I,\n",
       " -0.29550452425305146 - 0.14230747862306328*I,\n",
       " 0.16399263880284015 - 0.7184986963636808*I]"
      ]
     },
     "execution_count": 163,
     "metadata": {},
     "output_type": "execute_result"
    }
   ],
   "source": [
    "all_r_torsions(lens(7,[1,2]))"
   ]
  },
  {
   "cell_type": "code",
   "execution_count": 164,
   "id": "fcfef830",
   "metadata": {},
   "outputs": [
    {
     "data": {
      "text/plain": [
       "[0, 0.25]"
      ]
     },
     "execution_count": 164,
     "metadata": {},
     "output_type": "execute_result"
    }
   ],
   "source": [
    "all_r_torsions(simplicial_sets.RealProjectiveSpace(3)) "
   ]
  },
  {
   "cell_type": "code",
   "execution_count": 165,
   "id": "5ea9c983",
   "metadata": {},
   "outputs": [
    {
     "data": {
      "text/plain": [
       "Simplicial set with 182 non-degenerate simplices"
      ]
     },
     "execution_count": 165,
     "metadata": {},
     "output_type": "execute_result"
    }
   ],
   "source": [
    "L4_113 = lens(4,[1,1,3]); L4_113"
   ]
  },
  {
   "cell_type": "code",
   "execution_count": 166,
   "id": "a34e1f97",
   "metadata": {},
   "outputs": [
    {
     "data": {
      "text/plain": [
       "[0,\n",
       " -0.12499999999999892,\n",
       " -0.24999999999999659 - 0.24999999999999734*I,\n",
       " -0.24999999999999653 + 0.2499999999999969*I]"
      ]
     },
     "execution_count": 166,
     "metadata": {},
     "output_type": "execute_result"
    }
   ],
   "source": [
    "all_r_torsions(L4_113) "
   ]
  },
  {
   "cell_type": "code",
   "execution_count": 167,
   "id": "8aa60654",
   "metadata": {},
   "outputs": [
    {
     "data": {
      "text/plain": [
       "(-0.24999999999999997-0.2500000000000001j)"
      ]
     },
     "execution_count": 167,
     "metadata": {},
     "output_type": "execute_result"
    }
   ],
   "source": [
    "(numpy.exp(2*numpy.pi*I/4)-1)^(-2)*(numpy.exp(2*numpy.pi*I/4)^3-1)^(-1)"
   ]
  },
  {
   "cell_type": "markdown",
   "id": "4159cf1f",
   "metadata": {},
   "source": [
    "#### All Reidemeister Torsions of the Poincaré homology 3-sphere:"
   ]
  },
  {
   "cell_type": "code",
   "execution_count": 168,
   "id": "77d631f1",
   "metadata": {},
   "outputs": [
    {
     "data": {
      "text/plain": [
       "Simplicial set with 392 non-degenerate simplices"
      ]
     },
     "execution_count": 168,
     "metadata": {},
     "output_type": "execute_result"
    }
   ],
   "source": [
    "P_S3 = SimplicialSet(simplicial_complexes.PoincareHomologyThreeSphere())\n",
    "P_S3"
   ]
  },
  {
   "cell_type": "markdown",
   "id": "178d6076",
   "metadata": {},
   "source": [
    "The used triangulation of the Poincaré homology sphere as a simplicial complex has 392 simplices. The fundamental group of the  Poincaré homology sphere has 120 elements."
   ]
  },
  {
   "cell_type": "code",
   "execution_count": 170,
   "id": "8bd64245",
   "metadata": {},
   "outputs": [
    {
     "data": {
      "text/plain": [
       "[0,\n",
       " 0.927888567837343 - 0.535535467990794*I,\n",
       " -0.09373507768770462 - 0.1025408020294057*I,\n",
       " 0.0010993356262109098 - 5.827586677109586e-19*I,\n",
       " -0.006093620732141847 - 3.528535970354074e-16*I,\n",
       " 0.0007567405205541789 - 2.4940988397388446e-05*I,\n",
       " -0.013553909859376267 - 0.00144350448822123*I,\n",
       " -0.0009875426507273146,\n",
       " 4.549675882629726e-05 + 7.864640689903552e-05*I]"
      ]
     },
     "execution_count": 170,
     "metadata": {},
     "output_type": "execute_result"
    }
   ],
   "source": [
    "all_r_torsions(P_S3)"
   ]
  },
  {
   "cell_type": "markdown",
   "id": "62974345",
   "metadata": {},
   "source": [
    "#### Example: Invariance of Reidemeister torsion under subdivision"
   ]
  },
  {
   "cell_type": "markdown",
   "id": "82a65d5d",
   "metadata": {},
   "source": [
    "We use two different simplicial sets, which both have geometric realization homeomorphic to $S^2$. S2, below, has only two nondegenerate simplicies. S2_2, below, is a minimal triangulation of $S^2$ as a simplicial complex."
   ]
  },
  {
   "cell_type": "code",
   "execution_count": 171,
   "id": "d42b5783",
   "metadata": {},
   "outputs": [],
   "source": [
    "S2=simplicial_sets.Sphere(2); \n",
    "S2_2 = SimplicialSet(simplicial_complexes.Sphere(2)); \n",
    "RP3=simplicial_sets.RealProjectiveSpace(3)"
   ]
  },
  {
   "cell_type": "code",
   "execution_count": 172,
   "id": "a32f6669",
   "metadata": {},
   "outputs": [],
   "source": [
    "S2xRP3 = S2.product(RP3); S2_2xRP3 = S2_2.product(RP3)"
   ]
  },
  {
   "cell_type": "code",
   "execution_count": 173,
   "id": "80f55a39",
   "metadata": {},
   "outputs": [
    {
     "data": {
      "text/plain": [
       "[0, 0.062499999999999875]"
      ]
     },
     "execution_count": 173,
     "metadata": {},
     "output_type": "execute_result"
    }
   ],
   "source": [
    "all_r_torsions(S2xRP3)"
   ]
  },
  {
   "cell_type": "code",
   "execution_count": 174,
   "id": "84b56e2c",
   "metadata": {},
   "outputs": [
    {
     "data": {
      "text/plain": [
       "[0, 0.06250000000000044]"
      ]
     },
     "execution_count": 174,
     "metadata": {},
     "output_type": "execute_result"
    }
   ],
   "source": [
    "all_r_torsions(S2_2xRP3)"
   ]
  },
  {
   "cell_type": "markdown",
   "id": "c7d5efef",
   "metadata": {},
   "source": [
    "#### Reidemeistertorsion of products:"
   ]
  },
  {
   "cell_type": "markdown",
   "id": "b8f4b098",
   "metadata": {},
   "source": [
    "We compute the Reidemeister torsions of some examples of products of simplicial sets."
   ]
  },
  {
   "cell_type": "code",
   "execution_count": 175,
   "id": "251d18f0",
   "metadata": {},
   "outputs": [],
   "source": [
    "L1 = lens(3,[1,1])\n",
    "L2 = lens(3,[1,2])\n",
    "S2=simplicial_sets.Sphere(2)\n",
    "CP2=simplicial_sets.ComplexProjectiveSpace(2)\n",
    "RP2=simplicial_sets.RealProjectiveSpace(2)\n",
    "RP3=simplicial_sets.RealProjectiveSpace(3)"
   ]
  },
  {
   "cell_type": "markdown",
   "id": "f48624b3",
   "metadata": {},
   "source": [
    "The Reidemeister torsion of $S^2\\times \\mathbb{R}P^3$ is the Reidemeister torsion of $\\mathbb{R}P^3$ squared. "
   ]
  },
  {
   "cell_type": "code",
   "execution_count": 176,
   "id": "141d4b36",
   "metadata": {},
   "outputs": [
    {
     "data": {
      "text/plain": [
       "([0, 0.062499999999999875], 0.0625000000000000)"
      ]
     },
     "execution_count": 176,
     "metadata": {},
     "output_type": "execute_result"
    }
   ],
   "source": [
    "all_r_torsions(S2.product(RP3)), 0.25^2"
   ]
  },
  {
   "cell_type": "markdown",
   "id": "83859174",
   "metadata": {},
   "source": [
    "Let us look at $L1 = L(3; 1,1)$. The first number is the theoretical result."
   ]
  },
  {
   "cell_type": "code",
   "execution_count": 180,
   "id": "7add9fe4",
   "metadata": {},
   "outputs": [
    {
     "data": {
      "text/plain": [
       "(-0.16666666666666669-0.2886751345948129j)"
      ]
     },
     "execution_count": 180,
     "metadata": {},
     "output_type": "execute_result"
    }
   ],
   "source": [
    "zeta = numpy.exp(2*numpy.pi*I/3)\n",
    "-(1-zeta)^(-2)"
   ]
  },
  {
   "cell_type": "code",
   "execution_count": 181,
   "id": "5bb7a6a1",
   "metadata": {},
   "outputs": [
    {
     "data": {
      "text/plain": [
       "[0,\n",
       " -0.16666666666666652 - 0.28867513459481287*I,\n",
       " -0.16666666666666674 + 0.28867513459481325*I]"
      ]
     },
     "execution_count": 181,
     "metadata": {},
     "output_type": "execute_result"
    }
   ],
   "source": [
    "all_r_torsions(L1)"
   ]
  },
  {
   "cell_type": "markdown",
   "id": "61ff23a4",
   "metadata": {},
   "source": [
    "The Reidemeister torsion of $L(3;1,1)\\times \\mathbb{R}P^2$ equals the Reidemeister torsion of $L(3; 1,1)$. "
   ]
  },
  {
   "cell_type": "code",
   "execution_count": 182,
   "id": "c21e1854",
   "metadata": {},
   "outputs": [
    {
     "data": {
      "text/plain": [
       "[0,\n",
       " 0,\n",
       " 0.16666666666666521 + 0.28867513459481203*I,\n",
       " 0.16666666666666613 + 0.2886751345948118*I,\n",
       " 0.1666666666666637 - 0.28867513459480926*I,\n",
       " 0.16666666666667385 - 0.2886751345948277*I]"
      ]
     },
     "execution_count": 182,
     "metadata": {},
     "output_type": "execute_result"
    }
   ],
   "source": [
    "L1xRP2 = SimplicialSet(L1.product(RP2)); all_r_torsions(L1xRP2)"
   ]
  },
  {
   "cell_type": "markdown",
   "id": "23174277",
   "metadata": {},
   "source": [
    "The Reidemeister torsion of $L(3;1,1)\\times S^2$ equals the Reidemeister torsion of $L(3;1,1)$ squared. "
   ]
  },
  {
   "cell_type": "code",
   "execution_count": 183,
   "id": "968fef61",
   "metadata": {},
   "outputs": [
    {
     "data": {
      "text/plain": [
       "[0,\n",
       " -0.05555555555555479 + 0.09622504486493601*I,\n",
       " -0.0555555555555545 - 0.09622504486493554*I]"
      ]
     },
     "execution_count": 183,
     "metadata": {},
     "output_type": "execute_result"
    }
   ],
   "source": [
    "L1xS2 = SimplicialSet(L1.product(S2)); all_r_torsions(L1xS2)"
   ]
  },
  {
   "cell_type": "code",
   "execution_count": 184,
   "id": "674cd651",
   "metadata": {},
   "outputs": [
    {
     "data": {
      "text/plain": [
       "(0.05555555555555557-0.09622504486493764j)"
      ]
     },
     "execution_count": 184,
     "metadata": {},
     "output_type": "execute_result"
    }
   ],
   "source": [
    "-((1-zeta)^(-2))^2"
   ]
  },
  {
   "cell_type": "markdown",
   "id": "843d3dfc",
   "metadata": {},
   "source": [
    "Now we look at $L2 = L(3; 1,2)$. The first number below is the theoretical result for the Reidemeister torsion of $L(3; 1,2)$."
   ]
  },
  {
   "cell_type": "code",
   "execution_count": 185,
   "id": "8bf49552",
   "metadata": {},
   "outputs": [
    {
     "data": {
      "text/plain": [
       "(-0.33333333333333326-1.1102230246251565e-16j)"
      ]
     },
     "execution_count": 185,
     "metadata": {},
     "output_type": "execute_result"
    }
   ],
   "source": [
    "-(zeta-1)^(-1)*(zeta^2-1)^(-1)"
   ]
  },
  {
   "cell_type": "code",
   "execution_count": 186,
   "id": "b431840d",
   "metadata": {},
   "outputs": [
    {
     "data": {
      "text/plain": [
       "[0,\n",
       " -0.3333333333333331 - 1.1102230246251565e-16*I,\n",
       " -0.3333333333333333 - 2.220446049250313e-16*I]"
      ]
     },
     "execution_count": 186,
     "metadata": {},
     "output_type": "execute_result"
    }
   ],
   "source": [
    "all_r_torsions(L2)"
   ]
  },
  {
   "cell_type": "markdown",
   "id": "03093f91",
   "metadata": {},
   "source": [
    "The Reidemeister torsion of $L(3;1,2)\\times \\mathbb{R}P^2$ equals the Reidemeister torsion of $L(3;1,2)$. "
   ]
  },
  {
   "cell_type": "code",
   "execution_count": 187,
   "id": "52004064",
   "metadata": {},
   "outputs": [
    {
     "data": {
      "text/plain": [
       "[0,\n",
       " 0,\n",
       " 0.3333333333333321 + 6.938893903907228e-16*I,\n",
       " 0.3333333333333428 - 1.249000902703301e-16*I,\n",
       " 0.33333333333334264 - 5.48172618408671e-16*I,\n",
       " 0.33333333333332804 - 5.551115123125783e-16*I]"
      ]
     },
     "execution_count": 187,
     "metadata": {},
     "output_type": "execute_result"
    }
   ],
   "source": [
    "L2xRP2=SimplicialSet(L2.product(RP2)); all_r_torsions(L2xRP2)"
   ]
  },
  {
   "cell_type": "markdown",
   "id": "75e87bbc",
   "metadata": {},
   "source": [
    "The Reidemeister torsion of $L(3;1,2)\\times S^2$ equals the Reidemeister torsion of $L(3;1,2)$ squared"
   ]
  },
  {
   "cell_type": "code",
   "execution_count": 188,
   "id": "911042b5",
   "metadata": {},
   "outputs": [
    {
     "data": {
      "text/plain": [
       "[0,\n",
       " 0.1111111111111119 + 2.7755575615628914e-17*I,\n",
       " 0.11111111111111346 + 3.8163916471489756e-17*I]"
      ]
     },
     "execution_count": 188,
     "metadata": {},
     "output_type": "execute_result"
    }
   ],
   "source": [
    "L2xS2=SimplicialSet(L2.product(S2)); tors_L2xS2 = all_r_torsions(L2xS2); tors_L2xS2"
   ]
  },
  {
   "cell_type": "code",
   "execution_count": 189,
   "id": "1dd08ac3",
   "metadata": {},
   "outputs": [
    {
     "data": {
      "text/plain": [
       "(0.11111111111111106+7.401486830834375e-17j)"
      ]
     },
     "execution_count": 189,
     "metadata": {},
     "output_type": "execute_result"
    }
   ],
   "source": [
    "(-(zeta-1)^(-1)*(zeta^2-1)^(-1))^2"
   ]
  },
  {
   "cell_type": "markdown",
   "id": "05b2b9ba",
   "metadata": {},
   "source": [
    "Now let us look at the Reidemeister torsion of the product of $L(3;1,1)\\times L(3; 1,2)$. "
   ]
  },
  {
   "cell_type": "code",
   "execution_count": 190,
   "id": "a68feaa2",
   "metadata": {},
   "outputs": [
    {
     "data": {
      "text/plain": [
       "Simplicial set with 2580 non-degenerate simplices"
      ]
     },
     "execution_count": 190,
     "metadata": {},
     "output_type": "execute_result"
    }
   ],
   "source": [
    "L1xL2 = SimplicialSet(L1.product(L2)); L1xL2"
   ]
  },
  {
   "cell_type": "markdown",
   "id": "f71e4174",
   "metadata": {},
   "source": [
    "So, we test our algorithm for all Reidemeister torsions of a space with 2580 nondegenerate simplices:"
   ]
  },
  {
   "cell_type": "code",
   "execution_count": 191,
   "id": "a1bfa14c",
   "metadata": {},
   "outputs": [],
   "source": [
    "r_torsions_L1xL2=all_r_torsions(L1xL2)"
   ]
  },
  {
   "cell_type": "code",
   "execution_count": 192,
   "id": "631c9297",
   "metadata": {},
   "outputs": [
    {
     "data": {
      "text/plain": [
       "[0,\n",
       " -1.0000000000000013 + 1.6403545188836688e-14*I,\n",
       " -0.9999999999999954 - 1.3100631690576847e-14*I,\n",
       " -1.0000000000002252 + 1.7486012637846216e-14*I,\n",
       " -1.0000000000000349 - 2.3314683517128287e-15*I,\n",
       " -1.0000000000000482 - 2.1815882433884326e-14*I,\n",
       " -0.999999999999917 + 1.3795605283140056e-14*I,\n",
       " -1.0000000000001148 - 9.131584377541913e-15*I,\n",
       " -0.999999999999919 - 2.914335439641036e-14*I]"
      ]
     },
     "execution_count": 192,
     "metadata": {},
     "output_type": "execute_result"
    }
   ],
   "source": [
    "r_torsions_L1xL2"
   ]
  },
  {
   "cell_type": "markdown",
   "id": "ef712fec",
   "metadata": {},
   "source": [
    "So, the Reidemeister torsion of $L(3;1,1)\\times L(3;1,2)$ is one."
   ]
  },
  {
   "cell_type": "markdown",
   "id": "c8c99844",
   "metadata": {},
   "source": [
    "Now, we look at the product $L(3; 1,2)\\times \\mathbb{C}P^2$. Note that $\\mathbb{C}P^2$ has Euler characteristic equal to $3$."
   ]
  },
  {
   "cell_type": "code",
   "execution_count": 193,
   "id": "46639ca6",
   "metadata": {},
   "outputs": [
    {
     "data": {
      "text/plain": [
       "Simplicial set with 3544 non-degenerate simplices"
      ]
     },
     "execution_count": 193,
     "metadata": {},
     "output_type": "execute_result"
    }
   ],
   "source": [
    "L2xCP2=SimplicialSet(L2.product(CP2)); L2xCP2"
   ]
  },
  {
   "cell_type": "code",
   "execution_count": 194,
   "id": "f7ea8856",
   "metadata": {},
   "outputs": [
    {
     "data": {
      "text/plain": [
       "[0,\n",
       " 0.03703703703703259 - 6.55508633484736e-16*I,\n",
       " 0.03703703703704223 + 3.434752482434078e-16*I]"
      ]
     },
     "execution_count": 194,
     "metadata": {},
     "output_type": "execute_result"
    }
   ],
   "source": [
    "all_r_torsions(L2xCP2)"
   ]
  },
  {
   "cell_type": "markdown",
   "id": "7b8a6140",
   "metadata": {},
   "source": [
    "The torsion of $L(3; 1,2)\\times \\mathbb{C}P^2$ is the torsion of $L(3; 1,2)$ cubed:"
   ]
  },
  {
   "cell_type": "code",
   "execution_count": 195,
   "id": "7d721819",
   "metadata": {},
   "outputs": [
    {
     "data": {
      "text/plain": [
       "(0.037037037037037014+3.700743415417187e-17j)"
      ]
     },
     "execution_count": 195,
     "metadata": {},
     "output_type": "execute_result"
    }
   ],
   "source": [
    "((zeta-1)^(-1)*(zeta^2-1)^(-1))^3"
   ]
  },
  {
   "cell_type": "markdown",
   "id": "240a2ee6",
   "metadata": {},
   "source": [
    "The torsion of $\\mathbb{R}P^3\\times \\mathbb{C}P^2$ is the torsion of $\\mathbb{R}P^3$ cubed: "
   ]
  },
  {
   "cell_type": "code",
   "execution_count": 196,
   "id": "91f782b3",
   "metadata": {},
   "outputs": [
    {
     "data": {
      "text/plain": [
       "Simplicial set with 920 non-degenerate simplices"
      ]
     },
     "execution_count": 196,
     "metadata": {},
     "output_type": "execute_result"
    }
   ],
   "source": [
    "RP3xCP2=SimplicialSet(RP3.product(CP2)); RP3xCP2"
   ]
  },
  {
   "cell_type": "code",
   "execution_count": 197,
   "id": "63bd14a4",
   "metadata": {},
   "outputs": [
    {
     "data": {
      "text/plain": [
       "([0, 0.015624999999999424], 0.0156250000000000)"
      ]
     },
     "execution_count": 197,
     "metadata": {},
     "output_type": "execute_result"
    }
   ],
   "source": [
    "all_r_torsions(RP3xCP2), 0.25^3"
   ]
  },
  {
   "cell_type": "markdown",
   "id": "926be60f",
   "metadata": {},
   "source": [
    "All computed examples stick to the formula: \n",
    "Let $X, Y$ be CW-complexes and $\\phi: \\pi_1(X)\\to \\text{GL}(\\mathbb{C}^n)$, $\\psi: \\pi_1(Y)\\to \\text{GL}(\\mathbb{C}^m)$ representations of their fundamental groups. Then \n",
    "$$\\tau(X\\times Y, \\phi\\otimes \\psi)=\\tau(X, \\phi)^{\\chi(Y)}\\tau(Y,\\psi)^{\\chi(X)},$$\n",
    "with the usual convention $0^0=1$."
   ]
  }
 ],
 "metadata": {
  "kernelspec": {
   "display_name": "SageMath 9.5",
   "language": "sage",
   "name": "sagemath"
  },
  "language_info": {
   "codemirror_mode": {
    "name": "ipython",
    "version": 3
   },
   "file_extension": ".py",
   "mimetype": "text/x-python",
   "name": "python",
   "nbconvert_exporter": "python",
   "pygments_lexer": "ipython3",
   "version": "3.10.6"
  }
 },
 "nbformat": 4,
 "nbformat_minor": 5
}
